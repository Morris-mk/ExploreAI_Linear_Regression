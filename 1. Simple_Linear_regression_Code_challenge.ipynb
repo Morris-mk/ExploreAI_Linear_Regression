{
 "cells": [
  {
   "cell_type": "markdown",
   "id": "176c8155",
   "metadata": {},
   "source": [
    "<div align=\"center\" style=\" font-size: 80%; text-align: center; margin: 0 auto\">\n",
    "<img src=\"https://raw.githubusercontent.com/Explore-AI/Pictures/master/Python-Notebook-Banners/Code_challenge.png\"  style=\"display: block; margin-left: auto; margin-right: auto;\";/>\n",
    "</div>"
   ]
  },
  {
   "cell_type": "markdown",
   "id": "f662d169",
   "metadata": {},
   "source": [
    "## Integrated Project: Understanding the yield\n",
    "© ExploreAI Academy"
   ]
  },
  {
   "cell_type": "markdown",
   "id": "26af890c",
   "metadata": {},
   "source": [
    "In this coding challenge, we will apply all of the skills we learned in regression."
   ]
  },
  {
   "cell_type": "markdown",
   "id": "2d230d14",
   "metadata": {
    "tags": []
   },
   "source": [
    "⚠️ **Note that this code challenge is graded and will contribute to your overall marks for this module. Submit this notebook for grading. Note that the names of the functions are different in this notebook. Transfer the code in your notebook to this submission notebook**\n",
    "\n",
    "### Instructions\n",
    "\n",
    "- **Do not add or remove cells in this notebook. Do not edit or remove the `### START FUNCTION` or `### END FUNCTION` comments. Do not add any code outside of the functions you are required to edit. Doing any of this will lead to a mark of 0%!**\n",
    "\n",
    "- Answer the questions according to the specifications provided.\n",
    "\n",
    "- Use the given cell in each question to see if your function matches the expected outputs.\n",
    "\n",
    "- Do not hard-code answers to the questions.\n",
    "\n",
    "- The use of StackOverflow, Google, and other online tools is permitted. However, copying a fellow student's code is not permissible and is considered a breach of the Honour code. Doing this will result in a mark of 0%."
   ]
  },
  {
   "cell_type": "markdown",
   "id": "8944ccbc",
   "metadata": {},
   "source": [
    "# Introduction to Simple Linear Regression"
   ]
  },
  {
   "cell_type": "markdown",
   "id": "cf2e633f",
   "metadata": {},
   "source": [
    "Simple linear regression is a fundamental statistical method used to quantify the relationship between two variables. It allows us to predict an outcome (dependent variable) based on the value of one predictor (independent variable). In this challenge, we will apply simple linear regression to understand how different environmental factors affect the standardised yield of crops.\n",
    "\n",
    "Our insights will not only help local farmers maximise their harvests but also contribute to the sustainable agriculture practices in Maji Ndogo.\n",
    "\n"
   ]
  },
  {
   "cell_type": "markdown",
   "id": "0837de59",
   "metadata": {},
   "source": [
    "# Initial data exploration"
   ]
  },
  {
   "cell_type": "markdown",
   "id": "8da2b362",
   "metadata": {},
   "source": [
    "Before we sow the seeds of our regression model, we need to get to know our soil – the dataset. This dataset was developed through extensive agricultural surveys conducted at farms across Maji Ndogo. It contains various factors that might influence a farm's crop yield, from the elevation of the fields to the average temperature they bask in.\n",
    "\n",
    "Spend some time looking at the data dictionary and start thinking about what could be influencing our crop yield."
   ]
  },
  {
   "cell_type": "markdown",
   "id": "147be850",
   "metadata": {},
   "source": [
    "# Data dictionary"
   ]
  },
  {
   "cell_type": "markdown",
   "id": "bfe8e55e",
   "metadata": {},
   "source": [
    "**1. Geographic features**\n",
    "\n",
    "- **Field_ID:** A unique identifier for each field (BigInt).\n",
    " \n",
    "- **Elevation:** The elevation of the field above sea level in metres (Float).\n",
    "\n",
    "- **Latitude:** Geographical latitude of the field in degrees (Float). (DUMMY VARIABLE- the simulation might have created a relationship)\n",
    "\n",
    "- **Longitude:** Geographical longitude of the field in degrees (Float). (DUMMY VARIABLE- the simulation might have created a relationship)\n",
    "\n",
    "- **Location:** Province the field is in (Text).\n",
    "\n",
    "- **Slope:** The slope of the land in the field (Float).\n",
    "\n",
    "**2. Weather features**\n",
    "\n",
    "- **Rainfall:** Amount of rainfall in the area in mm (Float).\n",
    "\n",
    "- **Min_temperature_C:** Average minimum temperature recorded in Celsius (Float).(DUMMY VARIABLE)\n",
    "\n",
    "- **Max_temperature_C:** Average maximum temperature recorded in Celsius (Float).(DUMMY VARIABLE)\n",
    "\n",
    "- **Ave_temps:** Average temperature in Celcius (Float).\n",
    "\n",
    "**3. Soil and crop features**\n",
    "\n",
    "- **Soil_fertility:** A measure of soil fertility where 0 is infertile soil, and 1 is very fertile soil (Float).\n",
    "\n",
    "- **Soil_type:** Type of soil present in the field (Text).\n",
    "\n",
    "- **pH:** pH level of the soil, which is a measure of how acidic/basic the soil is (Float).\n",
    "\n",
    "**4. Farm management features**\n",
    "\n",
    "- **Field_ID:** Corresponding field identifier (BigInt).\n",
    "\n",
    "- **Pollution_level:** Level of pollution in the area where 0 is unpolluted and 1 is very polluted (Float).\n",
    "\n",
    "- **Plot_size:** Size of the plot in the field (Ha) (Float). (DUMMY VARIABLE)\n",
    "\n",
    "- **Chosen_crop:** Type of crop chosen for cultivation (Text).\n",
    "\n",
    "- **Annual_yield:** Annual yield from the field (Float). This is the total output of the field. The field size and type of crop will affect the Annual Yield (DUMMY VARIABLE - Removed)\n",
    "\n",
    "<br>\n",
    "\n",
    "**5. Target variable**\n",
    "- **Standard_yield:** Standardised yield expected from the field, normalised per crop (Float). This is independent of field size, or crop type. Multiplying this number by the field size, and average crop yield will give the Annual_Yield.\n",
    "\n",
    "---"
   ]
  },
  {
   "cell_type": "markdown",
   "id": "18740c83-966d-4609-8fb0-1d203d7ca8ea",
   "metadata": {},
   "source": [
    "Let's import our database again, like we did last time. We won't use the weather data so it is commented out.\n",
    "\n",
    "**Important:** Ensure that the `data_ingestion.py` file and the `field_data_processor.py` files are stored in the same folder as your notebook, otherwise the data import will fail. The links to the files are below:\n",
    "\n",
    "[Download files here](https://github.com/Explore-AI/Public-Data/raw/master/Maji_Ndogo/modules.zip)"
   ]
  },
  {
   "cell_type": "code",
   "execution_count": 1,
   "id": "96e60634",
   "metadata": {},
   "outputs": [
    {
     "data": {
      "text/plain": [
       "[('geographic_features',),\n",
       " ('weather_features',),\n",
       " ('soil_and_crop_features',),\n",
       " ('farm_management_features',)]"
      ]
     },
     "execution_count": 1,
     "metadata": {},
     "output_type": "execute_result"
    }
   ],
   "source": [
    "import sqlite3\n",
    "\n",
    "conn = sqlite3.connect('Maji_Ndogo_farm_survey_small.db')\n",
    "cursor = conn.cursor()\n",
    "\n",
    "# use cursor to select all tables\n",
    "cursor.execute(\"SELECT name FROM sqlite_master WHERE type='table';\")\n",
    "cursor.fetchall()"
   ]
  },
  {
   "cell_type": "code",
   "execution_count": 2,
   "id": "17334162-22e6-4795-bce9-a815b8267bae",
   "metadata": {},
   "outputs": [
    {
     "name": "stderr",
     "output_type": "stream",
     "text": [
      "2025-07-23 19:05:37,985 - data_ingestion - INFO - Database engine created successfully.\n",
      "2025-07-23 19:05:38,274 - data_ingestion - INFO - Query executed successfully.\n",
      "2025-07-23 19:05:38,277 - field_data_processor.FieldDataProcessor - INFO - Sucessfully loaded data.\n",
      "2025-07-23 19:05:38,290 - field_data_processor.FieldDataProcessor - INFO - Swapped columns: Annual_yield with Crop_type\n",
      "2025-07-23 19:05:39,204 - data_ingestion - INFO - CSV file read successfully from the web.\n"
     ]
    }
   ],
   "source": [
    "# Read the database, and clean the data using the processing modules we built.\n",
    "\n",
    "import re\n",
    "import numpy as np\n",
    "import pandas as pd\n",
    "from field_data_processor import FieldDataProcessor\n",
    "# from weather_data_processor import WeatherDataProcessor\n",
    "import logging\n",
    "\n",
    "logging.basicConfig(level=logging.INFO, format='%(asctime)s - %(name)s - %(levelname)s - %(message)s')\n",
    "\n",
    "config_params = {\n",
    "    \"sql_query\": \"\"\"\n",
    "            SELECT *\n",
    "            FROM geographic_features\n",
    "            LEFT JOIN weather_features USING (Field_ID)\n",
    "            LEFT JOIN soil_and_crop_features USING (Field_ID)\n",
    "            LEFT JOIN farm_management_features USING (Field_ID)\n",
    "            \"\"\",\n",
    "    \"db_path\": 'sqlite:///Maji_Ndogo_farm_survey_small.db',\n",
    "    \"columns_to_rename\": {'Annual_yield': 'Crop_type', 'Crop_type': 'Annual_yield'},\n",
    "    \"values_to_rename\": {'cassaval': 'cassava', 'wheatn': 'wheat', 'teaa': 'tea'},\n",
    "    \"weather_csv_path\": \"https://raw.githubusercontent.com/Explore-AI/Public-Data/master/Maji_Ndogo/Weather_station_data.csv\",\n",
    "    \"weather_mapping_csv\": \"https://raw.githubusercontent.com/Explore-AI/Public-Data/master/Maji_Ndogo/Weather_data_field_mapping.csv\",\n",
    "    \"regex_patterns\" : {\n",
    "            'Rainfall': r'(\\d+(\\.\\d+)?)\\s?mm',\n",
    "            'Temperature': r'(\\d+(\\.\\d+)?)\\s?C',\n",
    "            'Pollution_level': r'=\\s*(-?\\d+(\\.\\d+)?)|Pollution at \\s*(-?\\d+(\\.\\d+)?)'\n",
    "            },\n",
    "}\n",
    "# Ignoring the field data for now.\n",
    "field_processor = FieldDataProcessor(config_params)\n",
    "field_processor.process()\n",
    "field_df = field_processor.df\n",
    "\n",
    "# We're not going to use the weather data this time, so we'll ignore it.\n",
    "# weather_processor = WeatherDataProcessor(config_params)\n",
    "# weather_processor.process()\n",
    "# weather_df = weather_processor.weather_df\n",
    "\n",
    "dataset = field_df.drop(\"Weather_station\", axis=1)"
   ]
  },
  {
   "cell_type": "code",
   "execution_count": 60,
   "id": "fa73069a-f8e5-43a0-8d87-bc27760a99c0",
   "metadata": {},
   "outputs": [
    {
     "data": {
      "application/vnd.microsoft.datawrangler.viewer.v0+json": {
       "columns": [
        {
         "name": "index",
         "rawType": "int64",
         "type": "integer"
        },
        {
         "name": "Field_ID",
         "rawType": "int64",
         "type": "integer"
        },
        {
         "name": "Elevation",
         "rawType": "float64",
         "type": "float"
        },
        {
         "name": "Latitude",
         "rawType": "float64",
         "type": "float"
        },
        {
         "name": "Longitude",
         "rawType": "float64",
         "type": "float"
        },
        {
         "name": "Location",
         "rawType": "object",
         "type": "string"
        },
        {
         "name": "Slope",
         "rawType": "float64",
         "type": "float"
        },
        {
         "name": "Rainfall",
         "rawType": "float64",
         "type": "float"
        },
        {
         "name": "Min_temperature_C",
         "rawType": "float64",
         "type": "float"
        },
        {
         "name": "Max_temperature_C",
         "rawType": "float64",
         "type": "float"
        },
        {
         "name": "Ave_temps",
         "rawType": "float64",
         "type": "float"
        },
        {
         "name": "Soil_fertility",
         "rawType": "float64",
         "type": "float"
        },
        {
         "name": "Soil_type",
         "rawType": "object",
         "type": "string"
        },
        {
         "name": "pH",
         "rawType": "float64",
         "type": "float"
        },
        {
         "name": "Pollution_level",
         "rawType": "float64",
         "type": "float"
        },
        {
         "name": "Plot_size",
         "rawType": "float64",
         "type": "float"
        },
        {
         "name": "Annual_yield",
         "rawType": "float64",
         "type": "float"
        },
        {
         "name": "Crop_type",
         "rawType": "object",
         "type": "string"
        },
        {
         "name": "Standard_yield",
         "rawType": "float64",
         "type": "float"
        }
       ],
       "ref": "7abe0a50-ab82-4af1-a9ad-78a0600cd668",
       "rows": [
        [
         "0",
         "40734",
         "786.0558",
         "-7.389911080195735",
         "-7.556202472076428",
         "Rural_Akatsi",
         "14.795113",
         "1125.2",
         "-3.1",
         "33.1",
         "15.0",
         "0.62",
         "Sandy",
         "6.1693930384643805",
         "0.0852668430903311",
         "1.3",
         "0.7513536727525394",
         "cassava",
         "0.5779643636557995"
        ],
        [
         "1",
         "30629",
         "674.3341",
         "-7.736849459237079",
         "-1.051539153607483",
         "Rural_Sokoto",
         "11.374611",
         "1450.7",
         "-3.9",
         "30.6",
         "13.35",
         "0.64",
         "Volcanic",
         "5.676647602455388",
         "0.3996837617098369",
         "2.2",
         "1.0698648105284714",
         "cassava",
         "0.4863021866038506"
        ],
        [
         "2",
         "39924",
         "826.5339",
         "-9.926616371108418",
         "0.1151559983893706",
         "Rural_Sokoto",
         "11.339692",
         "2208.9",
         "-1.8000000000000007",
         "28.4",
         "13.3",
         "0.69",
         "Volcanic",
         "5.331992990569844",
         "0.3580285530417731",
         "3.4",
         "2.2088010770590665",
         "tea",
         "0.6496473756056078"
        ],
        [
         "3",
         "5754",
         "574.94617",
         "-2.4201314427593417",
         "-6.592214971970919",
         "Rural_Kilimani",
         "7.109855",
         "328.8",
         "-5.8",
         "32.2",
         "13.2",
         "0.54",
         "Loamy",
         "5.328149652613495",
         "0.2866871285527406",
         "2.4",
         "1.2776351356377693",
         "cassava",
         "0.5323479731824039"
        ],
        [
         "4",
         "14146",
         "886.353",
         "-3.055434188796088",
         "-7.952608546886169",
         "Rural_Kilimani",
         "55.007656",
         "785.2",
         "-2.5",
         "31.0",
         "14.25",
         "0.72",
         "Sandy",
         "5.721233805709933",
         "0.0431902746025795",
         "1.5",
         "0.8326139707528435",
         "wheat",
         "0.5550759805018957"
        ],
        [
         "5",
         "5304",
         "850.56647",
         "-2.050664597546483",
         "-7.132768710347839",
         "Rural_Kilimani",
         "50.45125",
         "649.4",
         "-3.0",
         "29.5",
         "13.25",
         "0.7",
         "Sandy",
         "5.484350233870995",
         "0.1275280259328365",
         "1.7",
         "1.1126109435585654",
         "potato",
         "0.6544770256226855"
        ],
        [
         "6",
         "429",
         "331.35538",
         "-13.409517241224766",
         "-6.722848792078675",
         "Rural_Hawassa",
         "5.907423",
         "1586.0",
         "-6.8",
         "31.8",
         "12.5",
         "0.63",
         "Silt",
         "7.061316546900067",
         "4.315457451400656e-07",
         "2.9",
         "0.9943251211595724",
         "banana",
         "0.34287073143433533"
        ],
        [
         "7",
         "672",
         "790.73846",
         "-3.785356492753202",
         "-1.4704683008495965",
         "Rural_Kilimani",
         "15.380596",
         "1188.3",
         "-3.0",
         "31.0",
         "14.0",
         "0.63",
         "Sandy",
         "4.577042710453545",
         "0.6131073815302063",
         "1.4",
         "0.5588991667187745",
         "tea",
         "0.3992136905134104"
        ],
        [
         "8",
         "26124",
         "742.7218",
         "-10.237509204275336",
         "-0.7362161395542792",
         "Rural_Sokoto",
         "3.4318435",
         "2143.3",
         "-2.6",
         "28.2",
         "12.8",
         "0.66",
         "Volcanic",
         "5.447320501794685",
         "0.278479232333261",
         "13.9",
         "8.53266459580238",
         "coffee",
         "0.6138607622879411"
        ],
        [
         "9",
         "44050",
         "747.3803",
         "-3.767333719815989",
         "-3.1056433594397808",
         "Rural_Kilimani",
         "8.239554",
         "796.6",
         "-3.8",
         "32.7",
         "14.45",
         "0.58",
         "Sandy",
         "4.897414401815874",
         "0.3103862353298307",
         "4.6",
         "2.214679129460039",
         "cassava",
         "0.48145198466522593"
        ],
        [
         "10",
         "22734",
         "756.9202",
         "-7.538598956927739",
         "-0.5785546325276771",
         "Rural_Sokoto",
         "9.371509",
         "1544.7",
         "-3.1",
         "30.5",
         "13.7",
         "0.64",
         "Volcanic",
         "5.831128627497049",
         "0.4451286628448371",
         "3.2",
         "1.5162813258555872",
         "coffee",
         "0.473837914329871"
        ],
        [
         "11",
         "16655",
         "393.8345",
         "-12.855316973405476",
         "-8.159820813263988",
         "Rural_Akatsi",
         "36.34067",
         "1753.3",
         "-6.3",
         "31.8",
         "12.75",
         "0.74",
         "Silt",
         "6.254509163012349",
         "0.0039918202247622",
         "1.9",
         "0.9368052485008556",
         "banana",
         "0.4930553939478187"
        ],
        [
         "12",
         "32297",
         "660.6827",
         "-2.6409104112401973",
         "-3.839895520735098",
         "Rural_Kilimani",
         "8.705346",
         "612.7",
         "-4.7",
         "29.8",
         "12.55",
         "0.57",
         "Sandy",
         "5.491848254369653",
         "0.1890157424991756",
         "4.2",
         "2.606619085416844",
         "potato",
         "0.6206235917659152"
        ],
        [
         "13",
         "24164",
         "790.90894",
         "-8.822721528704143",
         "-7.421064037482197",
         "Rural_Akatsi",
         "17.159893",
         "1575.0",
         "-2.8",
         "31.6",
         "14.4",
         "0.66",
         "Volcanic",
         "5.555430182144888",
         "0.0516251161209078",
         "1.1",
         "0.7931933781680391",
         "tea",
         "0.7210848892436719"
        ],
        [
         "14",
         "26011",
         "618.16815",
         "-8.813710142235536",
         "-0.9389237914456244",
         "Rural_Sokoto",
         "23.239878",
         "1673.9",
         "-4.2",
         "30.9",
         "13.35",
         "0.69",
         "Silt",
         "5.580685568665929",
         "0.0911649094274563",
         "1.3",
         "0.5822603224427979",
         "cassava",
         "0.4478925557252291"
        ],
        [
         "15",
         "42538",
         "639.52563",
         "-5.916549392578599",
         "-2.1146281724154266",
         "Rural_Hawassa",
         "0.8549503",
         "913.0",
         "-4.7",
         "32.4",
         "13.85",
         "0.56",
         "Sandy",
         "5.688561120864322",
         "0.7038841917356988",
         "13.1",
         "4.45176785156669",
         "wheat",
         "0.3398296069898237"
        ],
        [
         "16",
         "4813",
         "808.43085",
         "-8.56139132111456",
         "-1.974985123334722",
         "Rural_Sokoto",
         "16.707561",
         "1693.4",
         "-2.4000000000000004",
         "30.0",
         "13.8",
         "0.67",
         "Volcanic",
         "3.768237808360417",
         "0.1008553379000064",
         "1.2",
         "0.7679065918365245",
         "tea",
         "0.6399221598637704"
        ],
        [
         "17",
         "37912",
         "454.19534",
         "-10.377185694538737",
         "-7.353494820185081",
         "Rural_Akatsi",
         "9.985941",
         "1700.5",
         "-5.6",
         "31.3",
         "12.85",
         "0.65",
         "Silt",
         "7.196078807735186",
         "0.0303820353660652",
         "2.5",
         "0.9603215186479883",
         "banana",
         "0.3841286074591953"
        ],
        [
         "18",
         "36614",
         "768.06274",
         "-8.074776451809816",
         "0.480029771793792",
         "Rural_Sokoto",
         "10.411442",
         "1756.8",
         "-2.7",
         "32.4",
         "14.85",
         "0.66",
         "Volcanic",
         "4.4349048854115685",
         "0.1709666478355019",
         "2.5",
         "1.9524923690238536",
         "tea",
         "0.7809969476095414"
        ],
        [
         "19",
         "34153",
         "610.994",
         "-6.948353143234025",
         "-2.9660003103590764",
         "Rural_Hawassa",
         "16.369598",
         "902.8",
         "-4.9",
         "28.4",
         "11.75",
         "0.61",
         "Loamy",
         "4.698948976337432",
         "0.3034866535972001",
         "1.5",
         "0.7911142455410773",
         "wheat",
         "0.5274094970273849"
        ],
        [
         "20",
         "15118",
         "195.87325",
         "-12.711134789907774",
         "-6.380498091106625",
         "Rural_Hawassa",
         "10.056667",
         "1575.0",
         "-8.1",
         "33.9",
         "12.9",
         "0.64",
         "Silt",
         "6.927999150824922",
         "1.0170403712160064e-05",
         "4.8",
         "2.3050180810563066",
         "rice",
         "0.4802121002200639"
        ],
        [
         "21",
         "41199",
         "654.80963",
         "-6.637460310067107",
         "-2.339858896739144",
         "Rural_Hawassa",
         "13.94029",
         "1000.2",
         "-4.4",
         "33.6",
         "14.6",
         "0.61",
         "Sandy",
         "6.022460296607642",
         "0.5807124621785628",
         "2.0",
         "1.0651509809821873",
         "cassava",
         "0.5325754904910937"
        ],
        [
         "22",
         "43441",
         "504.42505",
         "-2.379580203650613",
         "-7.601248616941171",
         "Rural_Kilimani",
         "3.906222",
         "335.3",
         "-6.4",
         "32.6",
         "13.1",
         "0.53",
         "Loamy",
         "5.429211595035307",
         "0.057291111421635",
         "7.1",
         "4.256354046578342",
         "wheat",
         "0.5994864854335693"
        ],
        [
         "23",
         "19788",
         "775.58325",
         "-4.920791187797599",
         "-5.245335240515091",
         "Rural_Kilimani",
         "21.290752",
         "532.0",
         "-3.8",
         "27.9",
         "12.05",
         "0.6",
         "Sandy",
         "5.57051720658467",
         "0.29888030875511",
         "1.6",
         "0.9809457154570048",
         "potato",
         "0.613091072160628"
        ],
        [
         "24",
         "18871",
         "843.27203",
         "-7.164626418480577",
         "-7.794947039859568",
         "Rural_Akatsi",
         "11.813544",
         "1151.4",
         "-2.6",
         "31.0",
         "14.2",
         "0.62",
         "Sandy",
         "5.47845099313304",
         "0.106180852275285",
         "1.6",
         "0.9524514845467206",
         "cassava",
         "0.5952821778417003"
        ],
        [
         "25",
         "41012",
         "690.64",
         "-8.40819775114825",
         "-4.195760065166571",
         "Rural_Hawassa",
         "4.2353106",
         "1276.0",
         "-3.9",
         "29.3",
         "12.7",
         "0.6",
         "Volcanic",
         "4.615958553064251",
         "0.0288949318635394",
         "4.2",
         "3.048356316771347",
         "tea",
         "0.7257991230407969"
        ],
        [
         "26",
         "1603",
         "525.38104",
         "-2.465188375102373",
         "-5.186775252190925",
         "Rural_Kilimani",
         "6.8092437",
         "298.6",
         "-6.3",
         "33.8",
         "13.749999999999998",
         "0.54",
         "Loamy",
         "6.45310470389543",
         "0.1925625238013928",
         "4.8",
         "2.6031429133159256",
         "potato",
         "0.5423214402741512"
        ],
        [
         "27",
         "33183",
         "792.5747",
         "-3.276213157276944",
         "-7.335476362239185",
         "Rural_Kilimani",
         "27.644611",
         "613.9",
         "-3.5",
         "32.2",
         "14.35",
         "0.62",
         "Sandy",
         "5.842696857274482",
         "0.1053246405317907",
         "1.6",
         "1.0182114465508085",
         "potato",
         "0.6363821540942554"
        ],
        [
         "28",
         "314",
         "751.3648",
         "-2.9563089376414187",
         "-0.9434284059320988",
         "Rural_Kilimani",
         "3.2867026",
         "1298.6",
         "-3.3",
         "29.8",
         "13.25",
         "0.6",
         "Volcanic",
         "4.048841634381799",
         "0.3127831326137988",
         "11.7",
         "6.7966072177857475",
         "tea",
         "0.5809065998107477"
        ],
        [
         "29",
         "32300",
         "445.4456",
         "-9.30483070477458",
         "-6.930061058456494",
         "Rural_Akatsi",
         "5.848148",
         "1350.4",
         "-6.0",
         "33.4",
         "13.7",
         "0.61",
         "Peaty",
         "4.70362872997462",
         "0.0381556700012184",
         "4.1",
         "1.6747938071138964",
         "cassava",
         "0.40848629441802353"
        ],
        [
         "30",
         "11444",
         "741.3757",
         "-4.65044959373941",
         "-6.168781210242331",
         "Rural_Kilimani",
         "7.026868",
         "484.6",
         "-4.1",
         "28.9",
         "12.4",
         "0.55",
         "Sandy",
         "6.082514706919965",
         "0.2923536827499024",
         "2.2",
         "1.2017315931748915",
         "wheat",
         "0.5462416332613143"
        ],
        [
         "31",
         "43912",
         "521.39185",
         "-9.277796545368762",
         "-5.407501362028168",
         "Rural_Hawassa",
         "5.194681",
         "1367.4",
         "-5.3",
         "31.9",
         "13.3",
         "0.61",
         "Peaty",
         "5.472009097039224",
         "0.0487464424977198",
         "4.6",
         "2.31597739165009",
         "cassava",
         "0.5034733460108891"
        ],
        [
         "32",
         "40248",
         "680.9076",
         "-6.164362520465273",
         "-7.511156327211684",
         "Rural_Amanzi",
         "8.412227",
         "706.5",
         "-4.5",
         "31.0",
         "13.25",
         "0.57",
         "Sandy",
         "6.13494184648618",
         "0.4689934224817029",
         "3.6",
         "1.7829305213266784",
         "wheat",
         "0.49525847814629953"
        ],
        [
         "33",
         "35014",
         "717.9738",
         "-4.416153545555645",
         "-2.303821980847349",
         "Rural_Kilimani",
         "4.5158725",
         "909.5",
         "-3.9",
         "29.9",
         "13.0",
         "0.57",
         "Sandy",
         "5.959237557338291",
         "0.4491094339024725",
         "2.4",
         "1.1031131354391335",
         "wheat",
         "0.45963047309963895"
        ],
        [
         "34",
         "2593",
         "713.8158",
         "-2.3390289645418854",
         "-7.421064037482197",
         "Rural_Kilimani",
         "17.381775",
         "534.8",
         "-4.3",
         "30.5",
         "13.1",
         "0.59",
         "Sandy",
         "5.282325164776294",
         "0.0821317250552345",
         "1.8",
         "1.131427505803172",
         "potato",
         "0.6285708365573177"
        ],
        [
         "35",
         "26750",
         "891.7427",
         "-1.338765066526582",
         "-1.7857913149027995",
         "Rural_Kilimani",
         "4.546448",
         "1414.4",
         "-1.9000000000000004",
         "29.0",
         "13.55",
         "0.61",
         "Volcanic",
         "4.186967881002033",
         "0.0509331463027407",
         "2.0",
         "1.1895910854077432",
         "tea",
         "0.5947955427038716"
        ],
        [
         "36",
         "21090",
         "700.91864",
         "-3.316764396385672",
         "-4.646221513814004",
         "Rural_Kilimani",
         "11.447326",
         "511.2",
         "-4.5",
         "27.4",
         "11.45",
         "0.57",
         "Sandy",
         "5.2017577883056365",
         "0.1676238872554245",
         "2.8",
         "1.308275189075573",
         "wheat",
         "0.46724113895556185"
        ],
        [
         "37",
         "18533",
         "572.3282",
         "-9.435495808569373",
         "-2.560585006576386",
         "Rural_Hawassa",
         "4.282469",
         "1632.1",
         "-4.6",
         "33.8",
         "14.599999999999998",
         "0.63",
         "Silt",
         "6.767187005321462",
         "0.0404663132393637",
         "2.4",
         "1.066300304726029",
         "banana",
         "0.4442917936358455"
        ],
        [
         "38",
         "17418",
         "550.40393",
         "-7.024949928217179",
         "-1.2182098896070337",
         "Rural_Sokoto",
         "21.226728",
         "1144.1",
         "-5.3",
         "30.9",
         "12.8",
         "0.64",
         "Loamy",
         "4.68058962336393",
         "0.7127589134155362",
         "1.4",
         "0.526134902289328",
         "wheat",
         "0.37581064449237717"
        ],
        [
         "39",
         "19062",
         "659.6165",
         "-8.471277456428496",
         "-4.686763044192274",
         "Rural_Hawassa",
         "0.80738175",
         "1237.5",
         "-4.2",
         "31.8",
         "13.8",
         "0.59",
         "Volcanic",
         "5.992704326729788",
         "0.1140972485431574",
         "13.5",
         "7.374862840688013",
         "wheat",
         "0.5462861363472602"
        ],
        [
         "40",
         "22460",
         "386.93896",
         "-12.057809270933816",
         "-8.997679107748214",
         "Rural_Akatsi",
         "4.1579146",
         "1885.8",
         "-5.9",
         "33.3",
         "13.7",
         "0.65",
         "Silt",
         "7.028415322707853",
         "0.0415583410577925",
         "4.7",
         "2.074734899939949",
         "banana",
         "0.44143295743403166"
        ],
        [
         "41",
         "37828",
         "751.4212",
         "-7.615195741910893",
         "-7.763414738454247",
         "Rural_Akatsi",
         "8.986146",
         "1183.5",
         "-3.4000000000000004",
         "30.8",
         "13.7",
         "0.61",
         "Sandy",
         "6.134573074742628",
         "0.0591743280322812",
         "3.0",
         "1.7110402715066932",
         "cassava",
         "0.5703467571688977"
        ],
        [
         "42",
         "15949",
         "638.4356",
         "-8.15137323679297",
         "-5.988596630783357",
         "Rural_Hawassa",
         "2.4603343",
         "1093.8",
         "-4.5",
         "29.8",
         "12.65",
         "0.58",
         "Sandy",
         "4.911920667760945",
         "0.306816464301071",
         "10.4",
         "3.7502652217896686",
         "wheat",
         "0.3606024251720835"
        ],
        [
         "43",
         "9036",
         "255.68433",
         "-11.701859505423863",
         "-6.164276595755856",
         "Rural_Hawassa",
         "22.052572",
         "1667.3",
         "-7.5",
         "33.1",
         "12.8",
         "0.69",
         "Silt",
         "6.471624731127146",
         "0.0069746063404251",
         "1.8",
         "1.0063485858507804",
         "rice",
         "0.559082547694878"
        ],
        [
         "44",
         "23951",
         "562.1472",
         "-7.953122734483631",
         "-2.2227389200908103",
         "Rural_Sokoto",
         "24.619905",
         "1200.3",
         "-5.3",
         "31.8",
         "13.25",
         "0.66",
         "Loamy",
         "4.649273584598177",
         "0.262476573210417",
         "1.4",
         "0.9484067741024448",
         "tea",
         "0.6774334100731749"
        ],
        [
         "45",
         "25239",
         "779.9252",
         "-10.22849781780673",
         "0.3764236386048822",
         "Rural_Sokoto",
         "3.3992305",
         "2219.5",
         "-2.2",
         "30.6",
         "14.2",
         "0.67",
         "Volcanic",
         "4.41686239209466",
         "0.3353835992412022",
         "8.3",
         "5.440520355967024",
         "tea",
         "0.6554843802369908"
        ],
        [
         "46",
         "43917",
         "805.97516",
         "-4.335051067338188",
         "-0.8848684176079324",
         "Rural_Kilimani",
         "4.799029",
         "1284.1",
         "-2.8",
         "29.2",
         "13.2",
         "0.6",
         "Volcanic",
         "5.829746889672065",
         "0.8005345089911302",
         "2.3",
         "0.7406976541469475",
         "coffee",
         "0.3220424583247598"
        ],
        [
         "47",
         "9806",
         "673.3514",
         "-9.81847973348514",
         "-1.5425421326331856",
         "Rural_Sokoto",
         "8.904864",
         "1927.1",
         "-3.4000000000000004",
         "30.3",
         "13.45",
         "0.67",
         "Volcanic",
         "4.85711097685568",
         "0.1418049757610968",
         "3.2",
         "2.757766696896831",
         "tea",
         "0.8618020927802597"
        ],
        [
         "48",
         "44636",
         "493.53882",
         "-0.3159727023397636",
         "-3.1056433594397808",
         "Rural_Kilimani",
         "8.672898",
         "690.4",
         "-6.2",
         "34.1",
         "13.95",
         "0.57",
         "Loamy",
         "6.766205917784029",
         "0.0048716138507293",
         "2.2",
         "1.5872457310703936",
         "wheat",
         "0.7214753323047243"
        ],
        [
         "49",
         "19341",
         "538.19745",
         "-7.326831374915491",
         "-1.254246805498828",
         "Rural_Sokoto",
         "12.456426",
         "1187.9",
         "-5.3",
         "32.0",
         "13.35",
         "0.62",
         "Loamy",
         "6.045768938148034",
         "0.6066086270989894",
         "1.8",
         "0.928374343847798",
         "wheat",
         "0.5157635243598878"
        ]
       ],
       "shape": {
        "columns": 18,
        "rows": 5654
       }
      },
      "text/html": [
       "<div>\n",
       "<style scoped>\n",
       "    .dataframe tbody tr th:only-of-type {\n",
       "        vertical-align: middle;\n",
       "    }\n",
       "\n",
       "    .dataframe tbody tr th {\n",
       "        vertical-align: top;\n",
       "    }\n",
       "\n",
       "    .dataframe thead th {\n",
       "        text-align: right;\n",
       "    }\n",
       "</style>\n",
       "<table border=\"1\" class=\"dataframe\">\n",
       "  <thead>\n",
       "    <tr style=\"text-align: right;\">\n",
       "      <th></th>\n",
       "      <th>Field_ID</th>\n",
       "      <th>Elevation</th>\n",
       "      <th>Latitude</th>\n",
       "      <th>Longitude</th>\n",
       "      <th>Location</th>\n",
       "      <th>Slope</th>\n",
       "      <th>Rainfall</th>\n",
       "      <th>Min_temperature_C</th>\n",
       "      <th>Max_temperature_C</th>\n",
       "      <th>Ave_temps</th>\n",
       "      <th>Soil_fertility</th>\n",
       "      <th>Soil_type</th>\n",
       "      <th>pH</th>\n",
       "      <th>Pollution_level</th>\n",
       "      <th>Plot_size</th>\n",
       "      <th>Annual_yield</th>\n",
       "      <th>Crop_type</th>\n",
       "      <th>Standard_yield</th>\n",
       "    </tr>\n",
       "  </thead>\n",
       "  <tbody>\n",
       "    <tr>\n",
       "      <th>0</th>\n",
       "      <td>40734</td>\n",
       "      <td>786.05580</td>\n",
       "      <td>-7.389911</td>\n",
       "      <td>-7.556202</td>\n",
       "      <td>Rural_Akatsi</td>\n",
       "      <td>14.795113</td>\n",
       "      <td>1125.2</td>\n",
       "      <td>-3.1</td>\n",
       "      <td>33.1</td>\n",
       "      <td>15.00</td>\n",
       "      <td>0.62</td>\n",
       "      <td>Sandy</td>\n",
       "      <td>6.169393</td>\n",
       "      <td>8.526684e-02</td>\n",
       "      <td>1.3</td>\n",
       "      <td>0.751354</td>\n",
       "      <td>cassava</td>\n",
       "      <td>0.577964</td>\n",
       "    </tr>\n",
       "    <tr>\n",
       "      <th>1</th>\n",
       "      <td>30629</td>\n",
       "      <td>674.33410</td>\n",
       "      <td>-7.736849</td>\n",
       "      <td>-1.051539</td>\n",
       "      <td>Rural_Sokoto</td>\n",
       "      <td>11.374611</td>\n",
       "      <td>1450.7</td>\n",
       "      <td>-3.9</td>\n",
       "      <td>30.6</td>\n",
       "      <td>13.35</td>\n",
       "      <td>0.64</td>\n",
       "      <td>Volcanic</td>\n",
       "      <td>5.676648</td>\n",
       "      <td>3.996838e-01</td>\n",
       "      <td>2.2</td>\n",
       "      <td>1.069865</td>\n",
       "      <td>cassava</td>\n",
       "      <td>0.486302</td>\n",
       "    </tr>\n",
       "    <tr>\n",
       "      <th>2</th>\n",
       "      <td>39924</td>\n",
       "      <td>826.53390</td>\n",
       "      <td>-9.926616</td>\n",
       "      <td>0.115156</td>\n",
       "      <td>Rural_Sokoto</td>\n",
       "      <td>11.339692</td>\n",
       "      <td>2208.9</td>\n",
       "      <td>-1.8</td>\n",
       "      <td>28.4</td>\n",
       "      <td>13.30</td>\n",
       "      <td>0.69</td>\n",
       "      <td>Volcanic</td>\n",
       "      <td>5.331993</td>\n",
       "      <td>3.580286e-01</td>\n",
       "      <td>3.4</td>\n",
       "      <td>2.208801</td>\n",
       "      <td>tea</td>\n",
       "      <td>0.649647</td>\n",
       "    </tr>\n",
       "    <tr>\n",
       "      <th>3</th>\n",
       "      <td>5754</td>\n",
       "      <td>574.94617</td>\n",
       "      <td>-2.420131</td>\n",
       "      <td>-6.592215</td>\n",
       "      <td>Rural_Kilimani</td>\n",
       "      <td>7.109855</td>\n",
       "      <td>328.8</td>\n",
       "      <td>-5.8</td>\n",
       "      <td>32.2</td>\n",
       "      <td>13.20</td>\n",
       "      <td>0.54</td>\n",
       "      <td>Loamy</td>\n",
       "      <td>5.328150</td>\n",
       "      <td>2.866871e-01</td>\n",
       "      <td>2.4</td>\n",
       "      <td>1.277635</td>\n",
       "      <td>cassava</td>\n",
       "      <td>0.532348</td>\n",
       "    </tr>\n",
       "    <tr>\n",
       "      <th>4</th>\n",
       "      <td>14146</td>\n",
       "      <td>886.35300</td>\n",
       "      <td>-3.055434</td>\n",
       "      <td>-7.952609</td>\n",
       "      <td>Rural_Kilimani</td>\n",
       "      <td>55.007656</td>\n",
       "      <td>785.2</td>\n",
       "      <td>-2.5</td>\n",
       "      <td>31.0</td>\n",
       "      <td>14.25</td>\n",
       "      <td>0.72</td>\n",
       "      <td>Sandy</td>\n",
       "      <td>5.721234</td>\n",
       "      <td>4.319027e-02</td>\n",
       "      <td>1.5</td>\n",
       "      <td>0.832614</td>\n",
       "      <td>wheat</td>\n",
       "      <td>0.555076</td>\n",
       "    </tr>\n",
       "    <tr>\n",
       "      <th>...</th>\n",
       "      <td>...</td>\n",
       "      <td>...</td>\n",
       "      <td>...</td>\n",
       "      <td>...</td>\n",
       "      <td>...</td>\n",
       "      <td>...</td>\n",
       "      <td>...</td>\n",
       "      <td>...</td>\n",
       "      <td>...</td>\n",
       "      <td>...</td>\n",
       "      <td>...</td>\n",
       "      <td>...</td>\n",
       "      <td>...</td>\n",
       "      <td>...</td>\n",
       "      <td>...</td>\n",
       "      <td>...</td>\n",
       "      <td>...</td>\n",
       "      <td>...</td>\n",
       "    </tr>\n",
       "    <tr>\n",
       "      <th>5649</th>\n",
       "      <td>11472</td>\n",
       "      <td>681.36145</td>\n",
       "      <td>-7.358371</td>\n",
       "      <td>-6.254369</td>\n",
       "      <td>Rural_Akatsi</td>\n",
       "      <td>16.213196</td>\n",
       "      <td>885.7</td>\n",
       "      <td>-4.3</td>\n",
       "      <td>33.4</td>\n",
       "      <td>14.55</td>\n",
       "      <td>0.61</td>\n",
       "      <td>Sandy</td>\n",
       "      <td>5.741063</td>\n",
       "      <td>3.286828e-01</td>\n",
       "      <td>1.1</td>\n",
       "      <td>0.609930</td>\n",
       "      <td>potato</td>\n",
       "      <td>0.554482</td>\n",
       "    </tr>\n",
       "    <tr>\n",
       "      <th>5650</th>\n",
       "      <td>19660</td>\n",
       "      <td>667.02120</td>\n",
       "      <td>-3.154559</td>\n",
       "      <td>-4.475046</td>\n",
       "      <td>Rural_Kilimani</td>\n",
       "      <td>2.397553</td>\n",
       "      <td>501.1</td>\n",
       "      <td>-4.8</td>\n",
       "      <td>32.1</td>\n",
       "      <td>13.65</td>\n",
       "      <td>0.54</td>\n",
       "      <td>Sandy</td>\n",
       "      <td>5.445833</td>\n",
       "      <td>1.602583e-01</td>\n",
       "      <td>8.7</td>\n",
       "      <td>3.812289</td>\n",
       "      <td>maize</td>\n",
       "      <td>0.438194</td>\n",
       "    </tr>\n",
       "    <tr>\n",
       "      <th>5651</th>\n",
       "      <td>41296</td>\n",
       "      <td>670.77900</td>\n",
       "      <td>-14.472861</td>\n",
       "      <td>-6.110221</td>\n",
       "      <td>Rural_Hawassa</td>\n",
       "      <td>7.636470</td>\n",
       "      <td>1586.6</td>\n",
       "      <td>-3.8</td>\n",
       "      <td>33.4</td>\n",
       "      <td>14.80</td>\n",
       "      <td>0.64</td>\n",
       "      <td>Volcanic</td>\n",
       "      <td>5.385873</td>\n",
       "      <td>8.221326e-09</td>\n",
       "      <td>2.1</td>\n",
       "      <td>1.681629</td>\n",
       "      <td>tea</td>\n",
       "      <td>0.800776</td>\n",
       "    </tr>\n",
       "    <tr>\n",
       "      <th>5652</th>\n",
       "      <td>33090</td>\n",
       "      <td>429.48840</td>\n",
       "      <td>-14.653089</td>\n",
       "      <td>-6.984116</td>\n",
       "      <td>Rural_Hawassa</td>\n",
       "      <td>13.944720</td>\n",
       "      <td>1272.2</td>\n",
       "      <td>-6.2</td>\n",
       "      <td>34.6</td>\n",
       "      <td>14.20</td>\n",
       "      <td>0.63</td>\n",
       "      <td>Silt</td>\n",
       "      <td>5.562508</td>\n",
       "      <td>6.917245e-10</td>\n",
       "      <td>1.3</td>\n",
       "      <td>0.659874</td>\n",
       "      <td>cassava</td>\n",
       "      <td>0.507595</td>\n",
       "    </tr>\n",
       "    <tr>\n",
       "      <th>5653</th>\n",
       "      <td>8375</td>\n",
       "      <td>763.09030</td>\n",
       "      <td>-4.317028</td>\n",
       "      <td>-6.344461</td>\n",
       "      <td>Rural_Kilimani</td>\n",
       "      <td>35.189430</td>\n",
       "      <td>516.4</td>\n",
       "      <td>-3.8</td>\n",
       "      <td>29.6</td>\n",
       "      <td>12.90</td>\n",
       "      <td>0.64</td>\n",
       "      <td>Sandy</td>\n",
       "      <td>5.087792</td>\n",
       "      <td>2.612715e-01</td>\n",
       "      <td>0.5</td>\n",
       "      <td>0.226532</td>\n",
       "      <td>wheat</td>\n",
       "      <td>0.453064</td>\n",
       "    </tr>\n",
       "  </tbody>\n",
       "</table>\n",
       "<p>5654 rows × 18 columns</p>\n",
       "</div>"
      ],
      "text/plain": [
       "      Field_ID  Elevation   Latitude  Longitude        Location      Slope  \\\n",
       "0        40734  786.05580  -7.389911  -7.556202    Rural_Akatsi  14.795113   \n",
       "1        30629  674.33410  -7.736849  -1.051539    Rural_Sokoto  11.374611   \n",
       "2        39924  826.53390  -9.926616   0.115156    Rural_Sokoto  11.339692   \n",
       "3         5754  574.94617  -2.420131  -6.592215  Rural_Kilimani   7.109855   \n",
       "4        14146  886.35300  -3.055434  -7.952609  Rural_Kilimani  55.007656   \n",
       "...        ...        ...        ...        ...             ...        ...   \n",
       "5649     11472  681.36145  -7.358371  -6.254369    Rural_Akatsi  16.213196   \n",
       "5650     19660  667.02120  -3.154559  -4.475046  Rural_Kilimani   2.397553   \n",
       "5651     41296  670.77900 -14.472861  -6.110221   Rural_Hawassa   7.636470   \n",
       "5652     33090  429.48840 -14.653089  -6.984116   Rural_Hawassa  13.944720   \n",
       "5653      8375  763.09030  -4.317028  -6.344461  Rural_Kilimani  35.189430   \n",
       "\n",
       "      Rainfall  Min_temperature_C  Max_temperature_C  Ave_temps  \\\n",
       "0       1125.2               -3.1               33.1      15.00   \n",
       "1       1450.7               -3.9               30.6      13.35   \n",
       "2       2208.9               -1.8               28.4      13.30   \n",
       "3        328.8               -5.8               32.2      13.20   \n",
       "4        785.2               -2.5               31.0      14.25   \n",
       "...        ...                ...                ...        ...   \n",
       "5649     885.7               -4.3               33.4      14.55   \n",
       "5650     501.1               -4.8               32.1      13.65   \n",
       "5651    1586.6               -3.8               33.4      14.80   \n",
       "5652    1272.2               -6.2               34.6      14.20   \n",
       "5653     516.4               -3.8               29.6      12.90   \n",
       "\n",
       "      Soil_fertility Soil_type        pH  Pollution_level  Plot_size  \\\n",
       "0               0.62     Sandy  6.169393     8.526684e-02        1.3   \n",
       "1               0.64  Volcanic  5.676648     3.996838e-01        2.2   \n",
       "2               0.69  Volcanic  5.331993     3.580286e-01        3.4   \n",
       "3               0.54     Loamy  5.328150     2.866871e-01        2.4   \n",
       "4               0.72     Sandy  5.721234     4.319027e-02        1.5   \n",
       "...              ...       ...       ...              ...        ...   \n",
       "5649            0.61     Sandy  5.741063     3.286828e-01        1.1   \n",
       "5650            0.54     Sandy  5.445833     1.602583e-01        8.7   \n",
       "5651            0.64  Volcanic  5.385873     8.221326e-09        2.1   \n",
       "5652            0.63      Silt  5.562508     6.917245e-10        1.3   \n",
       "5653            0.64     Sandy  5.087792     2.612715e-01        0.5   \n",
       "\n",
       "      Annual_yield Crop_type  Standard_yield  \n",
       "0         0.751354   cassava        0.577964  \n",
       "1         1.069865   cassava        0.486302  \n",
       "2         2.208801       tea        0.649647  \n",
       "3         1.277635   cassava        0.532348  \n",
       "4         0.832614     wheat        0.555076  \n",
       "...            ...       ...             ...  \n",
       "5649      0.609930    potato        0.554482  \n",
       "5650      3.812289     maize        0.438194  \n",
       "5651      1.681629       tea        0.800776  \n",
       "5652      0.659874   cassava        0.507595  \n",
       "5653      0.226532     wheat        0.453064  \n",
       "\n",
       "[5654 rows x 18 columns]"
      ]
     },
     "execution_count": 60,
     "metadata": {},
     "output_type": "execute_result"
    }
   ],
   "source": [
    "dataset"
   ]
  },
  {
   "cell_type": "markdown",
   "id": "a10a6759-4747-4b03-8efa-7431ffe67488",
   "metadata": {},
   "source": [
    "Before diving into our analysis, it's crucial to ensure the integrity of our dataset and that the data are still as we expect it to be."
   ]
  },
  {
   "cell_type": "code",
   "execution_count": 61,
   "id": "bc3e30bc",
   "metadata": {},
   "outputs": [
    {
     "name": "stdout",
     "output_type": "stream",
     "text": [
      "\u001b[1m============================= test session starts =============================\u001b[0m\n",
      "platform win32 -- Python 3.13.0, pytest-8.3.3, pluggy-1.5.0 -- C:\\Program Files\\Python313\\python.exe\n",
      "cachedir: .pytest_cache\n",
      "rootdir: c:\\Users\\Morinyo Baddestman\\Documents\\ExploreAI_Linear_Regression\n",
      "plugins: anyio-4.9.0\n",
      "\u001b[1mcollecting ... \u001b[0mcollected 4 items\n",
      "\n",
      "validate_data.py::test_read_field_dataframe_shape \u001b[32mPASSED\u001b[0m\u001b[32m                 [ 25%]\u001b[0m\n",
      "validate_data.py::test_field_dataframe_columns \u001b[32mPASSED\u001b[0m\u001b[32m                    [ 50%]\u001b[0m\n",
      "validate_data.py::test_field_dataframe_non_negative_elevation \u001b[32mPASSED\u001b[0m\u001b[32m     [ 75%]\u001b[0m\n",
      "validate_data.py::test_crop_types_are_valid \u001b[32mPASSED\u001b[0m\u001b[32m                       [100%]\u001b[0m\n",
      "\n",
      "\u001b[32m============================== \u001b[32m\u001b[1m4 passed\u001b[0m\u001b[32m in 5.73s\u001b[0m\u001b[32m ==============================\u001b[0m\n",
      "Deleted sampled_field_df.csv\n"
     ]
    }
   ],
   "source": [
    "# Validate the data\n",
    "# !pip install pytest\n",
    "\n",
    "dataset.to_csv('sampled_field_df.csv', index=False)\n",
    "\n",
    "!pytest validate_data.py -v\n",
    "\n",
    "import os# Define the file paths\n",
    "field_csv_path = 'sampled_field_df.csv'\n",
    "\n",
    "# Delete sampled_field_df.csv if it exists\n",
    "if os.path.exists(field_csv_path):\n",
    "    os.remove(field_csv_path)\n",
    "    print(f\"Deleted {field_csv_path}\")\n",
    "else:\n",
    "    print(f\"{field_csv_path} does not exist.\")"
   ]
  },
  {
   "cell_type": "markdown",
   "id": "0324a485",
   "metadata": {},
   "source": [
    "# Analysis"
   ]
  },
  {
   "cell_type": "markdown",
   "id": "9a1fddb1",
   "metadata": {},
   "source": [
    "## Challenge 1: Visualising the relationship"
   ]
  },
  {
   "cell_type": "markdown",
   "id": "55b8dc1b",
   "metadata": {},
   "source": [
    "With our data ready and loaded, it's time to start exploring.\n",
    "\n",
    "Our goal is to determine whether any of the features in our dataset are influencing the Standard_yield of a farm. If we can figure out what these relationships are, then we can use them to start predicting what future yields will be, based on these features.\n",
    "\n",
    "For this analysis, we want to find whether any features have a linear relationship with Standard_yield so that we can fit a linear regression model to the data. This is important because if we try and fit a linear regression model to non-linear data, our predictions won't be good.\n",
    "\n",
    "Any of the features could have an impact on the Standard_yield. Let's begin with Ave_temps, the average temperature of the region, and its relationship to Standard_yield.\n",
    "\n",
    "Let's start with the basics: a scatter plot.\n"
   ]
  },
  {
   "cell_type": "markdown",
   "id": "b990be2e",
   "metadata": {},
   "source": [
    "**⚙️ Your task:**\n",
    "\n",
    " 1. Generate a scatter plot to visualise the relationship between `Ave_temps` and `Standard_yield`.\n",
    " 2. Reflect on the scatter plot. Does it suggest a linear relationship, or is the story more complex?\n",
    "\n",
    "**Note:**\n",
    "- Use `matplotlib` to create the scatter plot."
   ]
  },
  {
   "cell_type": "code",
   "execution_count": 62,
   "id": "debfd17a-019b-443a-8b43-de5428ea47dc",
   "metadata": {},
   "outputs": [],
   "source": [
    "import matplotlib.pyplot as plt"
   ]
  },
  {
   "cell_type": "code",
   "execution_count": 63,
   "id": "466e717c-d9ca-41fd-8610-d990a4e181bc",
   "metadata": {},
   "outputs": [
    {
     "data": {
      "image/png": "[encoded data removed]",
      "text/plain": [
       "<Figure size 640x480 with 1 Axes>"
      ]
     },
     "metadata": {},
     "output_type": "display_data"
    }
   ],
   "source": [
    "plt.scatter(x= dataset['Ave_temps'], y=dataset['Standard_yield'])\n",
    "plt.title('Ave_temps vs Standard_yield')\n",
    "plt.show()"
   ]
  },
  {
   "cell_type": "markdown",
   "id": "127c62e2-a722-4ed0-8f81-a8773c231987",
   "metadata": {},
   "source": [
    "Now, let's write a function to calculate the Pearson correlation coefficient.\n",
    "\n",
    "**⚙️ Your task:**\n",
    "\n",
    "Create a function named `get_correlation` that:\n",
    "1. Takes a DataFrame and the names of the columns we want to determine the correlation for as parameters (`Ave_temps` and `Standard_yield`).\n",
    "2. Calculates the Pearson correlation coefficient between these two columns to quantify their linear relationship.\n",
    "4. Returns the Pearson correlation coefficient.\n",
    "\n",
    "**Note:**\n",
    "- Use `scipy` to calculate the Pearson correlation coefficient.\n",
    "- Ensure your function returns the Pearson correlation coefficient as a float."
   ]
  },
  {
   "cell_type": "code",
   "execution_count": 7,
   "id": "3e239f40-8324-46a5-aefd-b3c1a382591a",
   "metadata": {},
   "outputs": [],
   "source": [
    "from scipy.stats import pearsonr"
   ]
  },
  {
   "cell_type": "code",
   "execution_count": null,
   "id": "86896dc5",
   "metadata": {},
   "outputs": [],
   "source": [
    "### START FUNCTION\n",
    "def get_correlation(df, col1, col2):\n",
    "    \n",
    "    corr = pearsonr(x=df[col1], y=df[col2])\n",
    "    return corr[0]\n",
    "\n",
    "### END FUNCTION"
   ]
  },
  {
   "cell_type": "markdown",
   "id": "9be4474e",
   "metadata": {},
   "source": [
    "Input:"
   ]
  },
  {
   "cell_type": "code",
   "execution_count": 12,
   "id": "66ca9510",
   "metadata": {},
   "outputs": [
    {
     "name": "stdout",
     "output_type": "stream",
     "text": [
      "Pearson correlation coefficient: 0.006785950289020191\n"
     ]
    }
   ],
   "source": [
    "correlation = get_correlation(dataset,'Ave_temps','Standard_yield')\n",
    "print(\"Pearson correlation coefficient:\", correlation)"
   ]
  },
  {
   "cell_type": "markdown",
   "id": "2ae64880",
   "metadata": {},
   "source": [
    "Expected output\n",
    "```\n",
    "Correlation: 0.006785950289020164\n",
    "```"
   ]
  },
  {
   "cell_type": "markdown",
   "id": "78795c87",
   "metadata": {},
   "source": [
    "What do you notice about the scatter plot and the dispersion of data points? It's essential to visualise our data first; if the data doesn't follow a linear pattern, then a linear regression model may fail to accurately capture the underlying relationship. The correlation also seems extremely low. What does this tell us?\n",
    "\n",
    "Let's write down some of our observations:\n",
    "\n",
    "  - ✍️ Your notes here"
   ]
  },
  {
   "cell_type": "markdown",
   "id": "2372ccb9",
   "metadata": {},
   "source": [
    "## Challenge 2: A breath of fresh data – Pollution as a predictor\n"
   ]
  },
  {
   "cell_type": "markdown",
   "id": "628c4cc1",
   "metadata": {},
   "source": [
    "It's time to shift our gaze from the warmth of the sun to the haze of pollution. Could the levels of pollution, a concern for farmers and environmentalists alike, be an indicator of our yields?\n",
    "\n",
    "Let's begin by fitting a simple linear regression model to try and capture the linear relationship between these columns.\n",
    "\n",
    "**⚙️ Your task:**\n",
    "\n",
    "Create a function named `fit_linear_regression_model` that:\n",
    "1. Takes in a DataFrame and the names of the `Pollution_level` and `Standard_yield` columns.\n",
    "2. Fits a linear regression model to the data.\n",
    "3. Returns the model, the model predictions, and the actual y-values.\n",
    "\n",
    "**Note:**\n",
    "- Use `LinearRegression` from `sklearn` to fit the model."
   ]
  },
  {
   "cell_type": "code",
   "execution_count": 13,
   "id": "fe797b89-06c2-42a8-b637-1366fdd6968b",
   "metadata": {},
   "outputs": [],
   "source": [
    "from sklearn.linear_model import LinearRegression"
   ]
  },
  {
   "cell_type": "code",
   "execution_count": 73,
   "id": "064f3d6b",
   "metadata": {},
   "outputs": [],
   "source": [
    "### START FUNCTION\n",
    "def fit_linear_regression_model(df, pollution_col, yield_col):\n",
    "    \n",
    "    model = LinearRegression()\n",
    "    X = df[[pollution_col]]\n",
    "    y = df[yield_col]\n",
    "    model = model.fit(X, y)\n",
    "    preds = model.predict(X)\n",
    "    return model, preds, y\n",
    "\n",
    "### END FUNCTION"
   ]
  },
  {
   "cell_type": "markdown",
   "id": "39424119",
   "metadata": {},
   "source": [
    "Input:"
   ]
  },
  {
   "cell_type": "code",
   "execution_count": 74,
   "id": "bc11f72f",
   "metadata": {},
   "outputs": [
    {
     "name": "stdout",
     "output_type": "stream",
     "text": [
      "Model: LinearRegression()\n",
      "Predictions: [0.5540956  0.50920888 0.51515565 ... 0.56626844 0.56626844 0.52896886]\n",
      "Actual Y-Values: 0       0.577964\n",
      "1       0.486302\n",
      "2       0.649647\n",
      "3       0.532348\n",
      "4       0.555076\n",
      "          ...   \n",
      "5649    0.554482\n",
      "5650    0.438194\n",
      "5651    0.800776\n",
      "5652    0.507595\n",
      "5653    0.453064\n",
      "Name: Standard_yield, Length: 5654, dtype: float64\n"
     ]
    }
   ],
   "source": [
    "model, predictions, y_values = fit_linear_regression_model(dataset, 'Pollution_level', 'Standard_yield')\n",
    "print(f\"Model: {model}\")\n",
    "print(f\"Predictions: {predictions}\")\n",
    "print(f\"Actual Y-Values: {y_values}\")"
   ]
  },
  {
   "cell_type": "markdown",
   "id": "788a7f56",
   "metadata": {},
   "source": [
    "Expected output:\n",
    "```\n",
    "- Model: an instance of the LinearRegression class.\n",
    "- Predictions: a NumPy array of predicted values.\n",
    "- y: a Pandas Series with the actual target values used for training.\n",
    "```"
   ]
  },
  {
   "cell_type": "markdown",
   "id": "5a22dcac-333a-453c-a89e-06bdeaf52595",
   "metadata": {},
   "source": [
    "Linear regression models only work well if our data are in fact linear. So, let's create a scatter plot to visualise the relationship between pollution and crop yields. In addition to this, let's use the predictions from the model we fit to add the line of best fit to our scatter plot.\n",
    "\n",
    "**⚙️ Your task:**\n",
    "\n",
    "1. Generate a scatter plot to visualise the effect that pollution has on standard yield.\n",
    "2. Draw the line of best fit.\n",
    "\n",
    "**Hint:**\n",
    "\n",
    "You can use this line of code to draw the regression line on the plot:\n",
    "`plt.plot(X, predictions, color='red', label='Regression line')`"
   ]
  },
  {
   "cell_type": "code",
   "execution_count": 75,
   "id": "90161e24",
   "metadata": {},
   "outputs": [
    {
     "data": {
      "image/png": "[encoded data removed]",
      "text/plain": [
       "<Figure size 640x480 with 1 Axes>"
      ]
     },
     "metadata": {},
     "output_type": "display_data"
    }
   ],
   "source": [
    "X = dataset[['Pollution_level']]\n",
    "y = dataset['Standard_yield']\n",
    "\n",
    "plt.scatter(X, y, label='Data points')\n",
    "plt.plot(X, predictions, color='red', label='Regression line')\n",
    "plt.xlabel('Pollution_level')\n",
    "plt.ylabel('Standard_yield')\n",
    "plt.legend()\n",
    "plt.show()"
   ]
  },
  {
   "cell_type": "markdown",
   "id": "351f356b-c869-45f3-b263-dce583b55d7c",
   "metadata": {},
   "source": [
    "Now, use the get_correlation() function that we defined earlier to test the correlation between `Pollution_level` and `Standard_yield`."
   ]
  },
  {
   "cell_type": "code",
   "execution_count": 76,
   "id": "74d826e9-ef70-4755-94d3-b0ace84c3aad",
   "metadata": {},
   "outputs": [
    {
     "name": "stdout",
     "output_type": "stream",
     "text": [
      "Pearson correlation coefficient: -0.2857609646210545\n"
     ]
    }
   ],
   "source": [
    "Pollution_correlation = get_correlation(dataset,'Pollution_level','Standard_yield')\n",
    "print(\"Pearson correlation coefficient:\", Pollution_correlation)"
   ]
  },
  {
   "cell_type": "markdown",
   "id": "eedea5ad-301e-44c1-8f15-f82fbd496e96",
   "metadata": {},
   "source": [
    "Expected output\n",
    "```\n",
    "Correlation: -0.2857609646210543\n",
    "```"
   ]
  },
  {
   "cell_type": "markdown",
   "id": "71c0636d-3185-4462-885f-e57e8690e020",
   "metadata": {},
   "source": [
    "Reflect on the difference between this plot and correlation and the previous one with the average temperature. Is the relationship between pollution and yield more linear?\n",
    "\n",
    "✍️ Your notes here"
   ]
  },
  {
   "cell_type": "markdown",
   "id": "e9b1845f",
   "metadata": {},
   "source": [
    "\n",
    "We can also gain a better understanding of our model by examining the slope and intercept.\n",
    "\n",
    "**⚙️ Your task:**\n",
    "\n",
    "Create a function named `get_slope_intercept` that:\n",
    "1. Inputs the `model` we fitted and calculates the slope and intercept of the line of best fit.\n",
    "2. Returns the slope and intercept as a tuple.\n"
   ]
  },
  {
   "cell_type": "code",
   "execution_count": 77,
   "id": "423e8020-4008-4787-8046-9924d3ca256f",
   "metadata": {
    "scrolled": true
   },
   "outputs": [],
   "source": [
    "### START FUNCTION\n",
    "def get_slope_intercept(model):\n",
    "    \n",
    "    slope = model.coef_[0]\n",
    "    intercept = model.intercept_\n",
    "    \n",
    "    return slope, intercept\n",
    "    \n",
    "\n",
    "### END FUNCTION"
   ]
  },
  {
   "cell_type": "markdown",
   "id": "5ade93ef-6595-4c07-87d4-0f0e9cfecdfa",
   "metadata": {},
   "source": [
    "Input:"
   ]
  },
  {
   "cell_type": "code",
   "execution_count": 78,
   "id": "20a2c04f-5c56-478a-b30e-50be0de2adf9",
   "metadata": {},
   "outputs": [
    {
     "name": "stdout",
     "output_type": "stream",
     "text": [
      "Slope: -0.1427617720986607\n",
      "Intercept: 0.566268441539338\n"
     ]
    }
   ],
   "source": [
    "slope, intercept = get_slope_intercept(model)\n",
    "print(\"Slope:\", slope)\n",
    "print(\"Intercept:\", intercept)"
   ]
  },
  {
   "cell_type": "markdown",
   "id": "ab5b1e0a-61da-4ca1-a4cd-46f44cb7e122",
   "metadata": {},
   "source": [
    "Expected output:\n",
    "```\n",
    "Slope: -0.1427617720986604\n",
    "Intercept: 0.5662684415393379\n",
    "```"
   ]
  },
  {
   "cell_type": "markdown",
   "id": "f7ee5e4d-90af-445a-a8e0-5e50ca62657e",
   "metadata": {},
   "source": [
    "\n",
    "What does the slope tell us about the strength of the relationship between pollution and yield? Also, what can we learn from the y-intercept?\n",
    "\n",
    "  - ✍️ Your notes here\n"
   ]
  },
  {
   "cell_type": "markdown",
   "id": "8e2d8de9",
   "metadata": {},
   "source": [
    "## Challenge 3: The haze clears: Evaluating pollution's predictive power"
   ]
  },
  {
   "cell_type": "markdown",
   "id": "8cc62613",
   "metadata": {},
   "source": [
    "When we look at the scatterplots of `Standard_yield` with `Ave_temps` and `Pollution_level`, it appears that pollution level might have a more linear relationship.  This means that we could potentially use a simple linear regression model to make predictions about the yield of a farm based on its pollution level. However, before we do this we need to further assess the strength of the linear relationship between `Pollution_level` and `Standard_yield`. \n",
    "\n",
    "Let's assess our model's performance using R-squared, mean absolute error (MAE), mean squared error (MSE), and root mean squared error (RMSE).\n",
    "\n",
    "**⚙️ Your task:**\n",
    "\n",
    "Create a function named `calculate_evaluation_metrics` that:\n",
    "1. Takes the predictions and y-values from our fitted model as input.\n",
    "2. Calculates and returns the R-squared, mean absolute error (MAE), mean squared error (MSE), and root mean squared error (RMSE) of the model's performance.\n",
    "\n",
    "**Note:**\n",
    "1. Calculate the model's performance metrics using the entire dataset.\n",
    "2. Return the evaluation metrics as a tuple in the order: R-squared, MAE, MSE, RMSE."
   ]
  },
  {
   "cell_type": "code",
   "execution_count": 79,
   "id": "29474e68",
   "metadata": {},
   "outputs": [],
   "source": [
    "from sklearn.metrics import r2_score, mean_absolute_error, mean_squared_error\n",
    "import numpy as np"
   ]
  },
  {
   "cell_type": "code",
   "execution_count": 82,
   "id": "bbf26a4b-e238-4d7c-882b-78373700b5ab",
   "metadata": {},
   "outputs": [],
   "source": [
    "### START FUNCTION\n",
    "def calculate_evaluation_metrics(predictions, y_values):\n",
    "    \n",
    "   r2 = r2_score(y_values, predictions)\n",
    "   mae= mean_absolute_error(predictions, y_values)\n",
    "   mse= mean_squared_error(predictions, y_values)\n",
    "   rmse = np.sqrt(mse)\n",
    "\n",
    "   return r2, mae, mse, rmse\n",
    "\n",
    "### END FUNCTION"
   ]
  },
  {
   "cell_type": "markdown",
   "id": "6448a869",
   "metadata": {},
   "source": [
    "Input:"
   ]
  },
  {
   "cell_type": "code",
   "execution_count": 83,
   "id": "4c214f59",
   "metadata": {},
   "outputs": [
    {
     "name": "stdout",
     "output_type": "stream",
     "text": [
      "Evaluation Metrics:\n",
      "R-squared: 0.08165932890115568\n",
      "MAE: 0.08554642090904993\n",
      "MSE: 0.011477732254034844\n",
      "RMSE: 0.10713417873878926\n"
     ]
    }
   ],
   "source": [
    "evaluation_metrics = calculate_evaluation_metrics(predictions, y_values)\n",
    "print(f\"Evaluation Metrics:\\nR-squared: {evaluation_metrics[0]}\\nMAE: {evaluation_metrics[1]}\\nMSE: {evaluation_metrics[2]}\\nRMSE: {evaluation_metrics[3]}\")"
   ]
  },
  {
   "cell_type": "markdown",
   "id": "802ce1a4",
   "metadata": {},
   "source": [
    "Expected output:\n",
    "\n",
    "A tuple containing numerical values for R-squared, MAE, MSE, and RMSE (give or take 0.0001):\n",
    "\n",
    "```python\n",
    "R-squared: 0.08165932890115546\n",
    "MAE: 0.08554642090904992\n",
    "MSE: 0.011477732254034848\n",
    "RMSE: 0.10713417873878928\n",
    "\n",
    "```"
   ]
  },
  {
   "cell_type": "markdown",
   "id": "1f4fb144",
   "metadata": {},
   "source": [
    "Think about what these metrics tell us about our model's accuracy and reliability. Write down your observations:\n",
    "\n",
    "  - ✍️ Your notes here"
   ]
  },
  {
   "cell_type": "markdown",
   "id": "977babed",
   "metadata": {},
   "source": [
    "## Challenge 4: The dividing line – Train-test split in action"
   ]
  },
  {
   "cell_type": "markdown",
   "id": "ebf9f6f7",
   "metadata": {},
   "source": [
    "As we delve deeper into the relationship between `Pollution_level` and `Standard_yield`, we must ensure our model is not merely memorising the data but truly understanding it. This brings us to the pivotal technique of train-test split.\n",
    "\n",
    "**The importance of train-test split**\n",
    "\n",
    "Imagine teaching a student for an exam by using the very questions that will appear on it. They might score perfectly, but does it mean they've truly learned? Similarly, a model might perform exceptionally on the data it was trained on, but the real test of knowledge comes from unseen data. This is where the train-test split comes in, allowing us to assess our model's generalisation capabilities by training on one subset of data and testing on another.\n",
    "\n",
    "**Your task**\n",
    "\n",
    "Create a function named `data_train_test_split` that:\n",
    "1. Takes in the DataFrame and the two columns we want to model the relationship between (`Pollution_level` and `Standard_yield`).\n",
    "2. Separates it into features (`X`) based on `Pollution_level` and the target (`y`) based on `Standard_yield`.\n",
    "3. Splits the data into training and testing sets using an 80-20 split and sets `random_state = 42` for reproducibility.\n",
    "4.  Returns a tuple containing: `X_train` and `X_test`, which are DataFrames containing features for training and testing, respectively, along with `y_train` and `y_test`, which are Series representing subsets of the original DataFrame's target variable for training and testing.\n",
    "\n",
    "**Note:**\n",
    "- Use `train_test_split` from `sklearn.model_selection` to split the data.\n",
    "- Train a linear regression model on the training set using `LinearRegression` from `sklearn.linear_model`.\n",
    "- If the random state is not set to `42` the code will not be marked correctly."
   ]
  },
  {
   "cell_type": "code",
   "execution_count": 84,
   "id": "806f5f0c-7b9e-41f7-bb35-0985fb03bdeb",
   "metadata": {},
   "outputs": [],
   "source": [
    "from sklearn.model_selection import train_test_split"
   ]
  },
  {
   "cell_type": "code",
   "execution_count": 91,
   "id": "4a4791a6",
   "metadata": {},
   "outputs": [],
   "source": [
    "### START FUNCTION\n",
    "def data_train_test_split(df, pollution_col, yield_col): \n",
    "   \n",
    "   X = df[[pollution_col]]\n",
    "   y = df[yield_col]\n",
    "   X_train, X_test, y_train, y_test = train_test_split(X, y, test_size=0.2, random_state=42)\n",
    "   return X_train, X_test, y_train, y_test\n",
    "\n",
    "### END FUNCTION"
   ]
  },
  {
   "cell_type": "markdown",
   "id": "7efcc079",
   "metadata": {},
   "source": [
    "Input:"
   ]
  },
  {
   "cell_type": "code",
   "execution_count": 92,
   "id": "01448eb0",
   "metadata": {},
   "outputs": [
    {
     "name": "stdout",
     "output_type": "stream",
     "text": [
      "X_train shape: (4523, 1), X_test shape: (1131, 1)\n",
      "y_train shape: (4523,), y_test shape: (1131,)\n"
     ]
    }
   ],
   "source": [
    "X_train, X_test, y_train, y_test = data_train_test_split(dataset, 'Pollution_level', 'Standard_yield')\n",
    "print(f\"X_train shape: {X_train.shape}, X_test shape: {X_test.shape}\")\n",
    "print(f\"y_train shape: {y_train.shape}, y_test shape: {y_test.shape}\")"
   ]
  },
  {
   "cell_type": "markdown",
   "id": "8fd44b50",
   "metadata": {},
   "source": [
    "Expected output: \n",
    "```\n",
    "- X_train: DataFrame, subset of the original DataFrame's features for training.\n",
    "- X_test: DataFrame, subset of the original DataFrame's features for testing.\n",
    "- y_train: Series, subset of the original DataFrame's target variable for training.\n",
    "- y_test: Series, subset of the original DataFrame's target variable for testing.\n",
    "```"
   ]
  },
  {
   "cell_type": "markdown",
   "id": "01e3c4bf",
   "metadata": {},
   "source": [
    "Now let's fit a linear regression model to the data.\n",
    "\n",
    "**Your task**\n",
    "\n",
    "Create a function named `train_split_linear_regression_model()` that:\n",
    "1. Takes `X_train`, `X_test`, `y_train`, `y_test` as input (the results from the `data_train_test_split()` function).\n",
    "2. Trains a simple linear regression model on the training set.\n",
    "3. Uses the testing set to make predictions.\n",
    "4. Returns a tuple containing: the model, the predictions, and y_test (the actual y values in the testing set values) ."
   ]
  },
  {
   "cell_type": "code",
   "execution_count": 93,
   "id": "fd774c7c",
   "metadata": {},
   "outputs": [],
   "source": [
    "from sklearn.linear_model import LinearRegression"
   ]
  },
  {
   "cell_type": "code",
   "execution_count": null,
   "id": "aac52ae0",
   "metadata": {},
   "outputs": [],
   "source": [
    "### START FUNCTION\n",
    "def train_split_linear_regression_model(X_train, X_test, y_train, y_test):\n",
    "\n",
    "    model = LinearRegression().fit(X_train, y_train)\n",
    "    predictions = model.predict(X_test)\n",
    "    \n",
    "    return model, predictions, y_test\n",
    "### END FUNCTION"
   ]
  },
  {
   "cell_type": "markdown",
   "id": "56f3e0e3-e878-40f1-b73c-fe0cf20f3e8b",
   "metadata": {},
   "source": [
    "Input:"
   ]
  },
  {
   "cell_type": "code",
   "execution_count": 95,
   "id": "47bee552-6e1b-44ff-a868-39875f50bc4f",
   "metadata": {},
   "outputs": [
    {
     "name": "stdout",
     "output_type": "stream",
     "text": [
      "Train-Test Model: LinearRegression()\n",
      "Test Predictions: [0.56412206 0.56167249 0.55638552 ... 0.53129108 0.53868457 0.56431394]\n",
      "Test Actual Y-Values: 4816    0.446290\n",
      "5096    0.650771\n",
      "4706    0.531284\n",
      "1499    0.516429\n",
      "3544    0.555724\n",
      "          ...   \n",
      "3982    0.540212\n",
      "4952    0.670387\n",
      "1071    0.353658\n",
      "718     0.535224\n",
      "4103    0.470315\n",
      "Name: Standard_yield, Length: 1131, dtype: float64\n"
     ]
    }
   ],
   "source": [
    "train_test_model, predictions_test, y_test = train_split_linear_regression_model(X_train, X_test, y_train, y_test)\n",
    "print(f\"Train-Test Model: {train_test_model}\")\n",
    "print(f\"Test Predictions: {predictions_test}\")\n",
    "print(f\"Test Actual Y-Values: {y_test}\")"
   ]
  },
  {
   "cell_type": "markdown",
   "id": "376b9b0a-780d-41f1-99ed-049c1c0d0277",
   "metadata": {},
   "source": [
    "Expected output: \n",
    "```\n",
    "- Model: an instance of the LinearRegression class.\n",
    "- Predictions: a NumPy array of predicted values.\n",
    "- y_test: a Pandas Series with the actual target values used for evaluating the model.\n",
    "```"
   ]
  },
  {
   "cell_type": "markdown",
   "id": "eb6e49d6-b478-4720-8970-cbecc2e243cf",
   "metadata": {},
   "source": [
    "Now, let's evaluate our train-test model by determining R-squared, MAE, MSE, and RMSE.\n",
    "\n",
    "**⚙️ Your task:**\n",
    "\n",
    "1. Use the `calculate_evaluation_metrics` function (defined in Challenge 3) to calculate the R-squared, MAE, MSE, and RMSE.\n",
    "2. The function should return a tuple containing the evaluation metrics (R-squared, MAE, MSE, and RMSE).\n",
    "\n",
    "**Note:**\n",
    "\n",
    "- Ensure to use the test set to calculate the evaluation metrics."
   ]
  },
  {
   "cell_type": "code",
   "execution_count": 97,
   "id": "5879fc5b-0ee7-47ee-8c0d-ee5f48a3c4d9",
   "metadata": {},
   "outputs": [
    {
     "data": {
      "text/plain": [
       "(0.08065722992150848,\n",
       " np.float64(0.087949421197475),\n",
       " np.float64(0.012250634233355656),\n",
       " np.float64(0.11068258324305436))"
      ]
     },
     "execution_count": 97,
     "metadata": {},
     "output_type": "execute_result"
    }
   ],
   "source": [
    "def calculate_metrics(y_preds, y):\n",
    "    # Add code to calculate the R-squared, MAE, MSE, and RMSE\n",
    "    r2 = r2_score(y,y_preds )\n",
    "    mae = mean_absolute_error(y_preds, y)\n",
    "    mse = mean_squared_error(y_preds, y)\n",
    "    rmse= np.sqrt(mse)\n",
    "    #metrics = (f'R-squared:{r2} MAE:{mae} MSE {mse} RMSE {rmse}')\n",
    "    metrics = (r2, mae, mse, rmse)\n",
    "\n",
    "    return metrics\n",
    "\n",
    "\n",
    "calculate_metrics(predictions_test, y_test)"
   ]
  },
  {
   "cell_type": "markdown",
   "id": "d5fc94aa-1188-4119-80a1-4cc22876ffc0",
   "metadata": {},
   "source": [
    "Expected output:\n",
    "\n",
    "A tuple containing numerical values for R-squared, MAE, MSE, and RMSE (give or take 0.0001):\n",
    "\n",
    "```python\n",
    "R-squared: 0.08065722992150859\n",
    "MAE:  0.08794942119747501\n",
    "MSE: 0.012250634233355654\n",
    "RMSE: 0.11068258324305434\n",
    "\n",
    "```"
   ]
  },
  {
   "cell_type": "markdown",
   "id": "5cc6334b-86a5-4884-b652-4888990e7066",
   "metadata": {},
   "source": [
    "Reflect on the difference between these metrics and the metrics we obtained from the previous model (that was not split into training and testing sets). Why do you think the fit is worse now? And why should we choose the worst option? (Reflect on the course material if the answers to these questions are not clear.)\n",
    "\n",
    "  - ✍️ Your notes here"
   ]
  },
  {
   "cell_type": "markdown",
   "id": "e0e0acaa",
   "metadata": {},
   "source": [
    "## Challenge 5: Diagnosing model fit through residual analysis"
   ]
  },
  {
   "cell_type": "markdown",
   "id": "276f331f",
   "metadata": {},
   "source": [
    "From our analysis, it seems as though neither `Ave_temps` nor `Pollution_level` have a strong linear fit with `Standard_yield`. However, even if we had obtained good results from our evaluation metrics, there are still other crucial assumptions we need to verify to ensure our model is well-fitted. Residual analysis plays a pivotal role in diagnosing the fit of linear regression models, helping us understand whether the assumptions of linearity, independence, and homoscedasticity (constant variance) of residuals are met. \n",
    "\n",
    "If they are not met, can we confidently model this problem using the model? And why?\n",
    "\n",
    "  - ✍️ Your notes here"
   ]
  },
  {
   "cell_type": "markdown",
   "id": "d5f05442-9497-4dc5-89c9-a9326dc1ff23",
   "metadata": {},
   "source": [
    "First, let's create a histogram.\n",
    "\n",
    "**⚙️ Your task:**\n",
    "\n",
    "1. Calculate the residuals of our train test model (difference between `y_test` and `predictions_test`).\n",
    "2. Plot these residuals as a histogram to assess their distribution and identify any patterns."
   ]
  },
  {
   "cell_type": "code",
   "execution_count": 49,
   "id": "a61d7f10-33d2-4046-b944-1c52cceb8c05",
   "metadata": {},
   "outputs": [],
   "source": [
    "import matplotlib.pyplot as plt"
   ]
  },
  {
   "cell_type": "code",
   "execution_count": 57,
   "id": "09c9a4f9-9c6e-45b7-8f72-81bf2f652e83",
   "metadata": {},
   "outputs": [
    {
     "data": {
      "image/png": "[encoded data removed]",
      "text/plain": [
       "<Figure size 640x480 with 1 Axes>"
      ]
     },
     "metadata": {},
     "output_type": "display_data"
    }
   ],
   "source": [
    "residuals = y_test - predictions_test # calculating the residuals\n",
    "\n",
    "#  Add code to create a histogram of residuals\n",
    "plt.hist(residuals)\n",
    "plt.title('An Histogram of Residuals')\n",
    "plt.show()"
   ]
  },
  {
   "cell_type": "markdown",
   "id": "622c8ca6-061d-457c-975e-74d6c6411a09",
   "metadata": {},
   "source": [
    "What does the histogram tell us about our data?\n",
    "\n",
    "1. Examine the shape of the histogram. What does the distribution of residuals tell us about the normality of the data? Consider whether the residuals appear to be symmetrically distributed around zero.\n",
    "\n",
    "    - ✍️ Your notes here\n",
    "\n",
    "2. Compare the tails of the histogram to a normal distribution. Are there signs of heavy tails or skewness that could affect the reliability of the regression model's predictions?\n",
    "\n",
    "    - ✍️ Your notes here\n",
    "\n",
    "3. Assess the centering of the histogram around the zero line. How does this central tendency reflect on the bias of the model's predictions?\n",
    "\n",
    "    - ✍️ Your notes here"
   ]
  },
  {
   "cell_type": "markdown",
   "id": "2ec7030a-452b-44da-94e6-caafce0e56c8",
   "metadata": {},
   "source": [
    "Now, let's create a scatter plot of these residuals against the predicted values. \n",
    "\n",
    "**⚙️ Your task:**\n",
    "\n",
    "1. Create a scatter plot of the residuals against the predicted values – `predictions_test` should be on the x-axis and the `residuals` on the y-axis.\n",
    "\n",
    "**Note:**\n",
    "\n",
    "- A horizontal line can be added at y=0 to make it easier to see if the residuals are evenly distributed around zero by adding this line of code:\n",
    "`plt.axhline(y=0, color='r', linestyle='--')`\n"
   ]
  },
  {
   "cell_type": "code",
   "execution_count": 98,
   "id": "560a7294-a0d3-4215-aa84-7213d2272bdd",
   "metadata": {},
   "outputs": [
    {
     "data": {
      "image/png": "[encoded data removed]",
      "text/plain": [
       "<Figure size 1000x600 with 1 Axes>"
      ]
     },
     "metadata": {},
     "output_type": "display_data"
    }
   ],
   "source": [
    "#  Add code to create a scatter plot of residuals against the predicted values\n",
    "plt.figure(figsize=(10, 6))\n",
    "plt.scatter(predictions_test, residuals, edgecolor='black')\n",
    "plt.title('Residuals vs. Predicted Values')\n",
    "plt.xlabel('Predicted Values')\n",
    "plt.ylabel('Residuals')\n",
    "plt.axhline(y=0, color='r', linestyle='--')\n",
    "plt.show()"
   ]
  },
  {
   "cell_type": "markdown",
   "id": "5dab89c4-a6b3-4b4d-aee8-d3a67dcdc46b",
   "metadata": {},
   "source": [
    "Reflect on what the scatter plot tells us about our data and the fit of the model:\n",
    "\n",
    "1. Analyse the scatter plot for any apparent patterns or structures in the data. What does this suggest about the appropriateness of the linear regression model for the dataset?\n",
    "\n",
    "    - ✍️ Your notes here\n",
    "\n",
    "2. Inspect the plot for signs of heteroscedasticity. How does the spread of residuals change as the predicted values increase? What might this imply about the constant variance assumption in linear regression?\n",
    "\n",
    "    - ✍️ Your notes here\n",
    "\n",
    "3. Identify whether the residuals are evenly scattered above and below the zero line across the range of predicted values. What can this tell us about the model's performance in terms of bias and prediction accuracy?\n",
    "\n",
    "    - ✍️ Your notes here\n",
    "\n",
    "4. Look for outliers or clusters of points that deviate significantly from the majority. How might these points influence the overall fit of the model?\n",
    "\n",
    "    - ✍️ Your notes here"
   ]
  },
  {
   "cell_type": "markdown",
   "id": "6effb39d-3dd0-43bb-b1d1-01872990df99",
   "metadata": {},
   "source": [
    "Our final task is to examine the mean and standard deviation of the residuals, which provide further insights into the model's performance.\n",
    "\n",
    "**⚙️ Your task:**\n",
    "\n",
    "Create a function named `calculate_residuals_statistics` that:\n",
    "1. Uses the `predictions_test` and `y_test` (obtained from Challenge 4) to calculate the residuals.\n",
    "2. Calculates the mean and standard deviation of the residuals.\n",
    "\n",
    "**Note:**\n",
    "\n",
    "- Use `numpy` for the mean and standard deviation."
   ]
  },
  {
   "cell_type": "code",
   "execution_count": 99,
   "id": "e3cd7922-1acc-44ae-932b-33187705678c",
   "metadata": {},
   "outputs": [],
   "source": [
    "import numpy as np"
   ]
  },
  {
   "cell_type": "code",
   "execution_count": 100,
   "id": "ca6ec84e-91f1-49fe-88cb-e1039d97527d",
   "metadata": {},
   "outputs": [],
   "source": [
    "### START FUNCTION\n",
    "def calculate_residuals_statistics(predictions, y_test):\n",
    "\n",
    "    # Add code to calculate and return the mean_residual and std_residual\n",
    "    residuals = y_test - predictions\n",
    "    mean_residual = np.mean(residuals)\n",
    "    std_residual = np.std(residuals)\n",
    "    \n",
    "    return mean_residual, std_residual\n",
    "### END FUNCTION"
   ]
  },
  {
   "cell_type": "markdown",
   "id": "fd0b2721-3ffd-4451-bce6-95c2ea6f676b",
   "metadata": {},
   "source": [
    "Input:"
   ]
  },
  {
   "cell_type": "code",
   "execution_count": 101,
   "id": "ceaa9911-9425-476d-8753-f6c191fdb34f",
   "metadata": {},
   "outputs": [
    {
     "name": "stdout",
     "output_type": "stream",
     "text": [
      "Mean: 0.005858023192321698\n",
      "Standard deviation: 0.11052745268770955\n"
     ]
    }
   ],
   "source": [
    "mean_residual, std_residual = calculate_residuals_statistics(predictions_test, y_test)\n",
    "print(f\"Mean: {mean_residual}\\nStandard deviation: {std_residual}\")"
   ]
  },
  {
   "cell_type": "markdown",
   "id": "4f5ebbe0-ddf0-41ff-a21d-8e195a9e18e7",
   "metadata": {},
   "source": [
    "Expected output: \n",
    "```\n",
    "Mean: 0.0058580231923217015\n",
    "Standard deviation: 0.11052745268770957\n",
    "```"
   ]
  },
  {
   "cell_type": "markdown",
   "id": "1d791017-94db-4400-8489-16c2b50a2dee",
   "metadata": {},
   "source": [
    "What does the mean of the residuals tell us about the bias in our predictions? How does a mean close to zero reflect on our model's accuracy?\n",
    "\n",
    "- ✍️ Your notes here\n",
    "\n",
    "What does the standard deviation of the residuals indicate about the variability of our predictions? Why is it important for this value to be relatively low?\n",
    "\n",
    " - ✍️ Your notes here\n",
    "\n",
    "What are the potential consequences of a high standard deviation of residuals on the reliability of the model's predictions? How might this affect our confidence in the model's estimates?\n",
    "\n",
    "- ✍️ Your notes here"
   ]
  },
  {
   "cell_type": "markdown",
   "id": "64c96884-c710-49dd-a6ee-6f939420f661",
   "metadata": {},
   "source": [
    "## Conclusion\n",
    "\n",
    "Linear regression, for all its strengths, assumes a straightforward relationship between the predictor and the outcome. Yet, the natural world seldom adheres to such simplicity. Factors influencing crop yields in Maji Ndogo – be it temperature, rainfall, or pollution – interact in complex, often nonlinear ways. Our initial model with `Ave_temps` hinted at this complexity, suggesting that the effect of the average temperature on yields might follow a more intricate pattern than a straight line can depict (or no pattern at all).\n",
    "\n",
    "Our yield also depends on more than just the pollution or the temperature; it depends on many of the factors – we could see that from our EDA. We also saw that not all crops are affected equally by pollution or temperature, so we could simplify our model if we remove the influence of the different crops. Once your submission is done, as a challenge to yourself, try to split the data again by crop type (with a loop) and use the functions you created to loop over all of the crop types and print out your metrics.\n",
    "\n",
    "Compare them, and discuss your results with your colleagues. Is there a crop type that is affected by pollution more than other crop types?\n",
    "\n",
    "As we dive deeper into regression, it's crucial to remember that with each model comes a new perspective. Just as a farmer selects the tool that best suits the task at hand, so we must choose our models with intention and insight. Exploring beyond linear regression opens up new vistas of understanding, allowing us to capture the richness of relationships within our data.\n",
    "\n",
    "Countless stories await us in the fields of Maji Ndogo, and beyond. It's up to us to uncover them – with curiosity as our guide and an ever-expanding array of models at our disposal."
   ]
  },
  {
   "cell_type": "markdown",
   "id": "26fd094b-0fee-46f1-a4b8-73766813c42b",
   "metadata": {
    "tags": []
   },
   "source": [
    "#  \n",
    "\n",
    "<div align=\"center\" style=\" font-size: 80%; text-align: center; margin: 0 auto\">\n",
    "<img src=\"https://raw.githubusercontent.com/Explore-AI/Pictures/master/ExploreAI_logos/EAI_Blue_Dark.png\"  style=\"width:200px\";/>\n",
    "</div>"
   ]
  }
 ],
 "metadata": {
  "kernelspec": {
   "display_name": "Python 3",
   "language": "python",
   "name": "python3"
  },
  "language_info": {
   "codemirror_mode": {
    "name": "ipython",
    "version": 3
   },
   "file_extension": ".py",
   "mimetype": "text/x-python",
   "name": "python",
   "nbconvert_exporter": "python",
   "pygments_lexer": "ipython3",
   "version": "3.13.0"
  }
 },
 "nbformat": 4,
 "nbformat_minor": 5
}
