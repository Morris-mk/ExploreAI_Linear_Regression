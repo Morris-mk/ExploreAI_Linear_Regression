{
 "cells": [
  {
   "cell_type": "markdown",
   "id": "1c9e3389",
   "metadata": {},
   "source": [
    "<div align=\"center\" style=\" font-size: 80%; text-align: center; margin: 0 auto\">\n",
    "<img src=\"https://raw.githubusercontent.com/Explore-AI/Pictures/master/Python-Notebook-Banners/Exercise.png\"  style=\"display: block; margin-left: auto; margin-right: auto;\";/>\n",
    "</div>"
   ]
  },
  {
   "cell_type": "markdown",
   "id": "f662d169",
   "metadata": {},
   "source": [
    "# Exercise: Multiple linear regression\n",
    "© ExploreAI Academy"
   ]
  },
  {
   "cell_type": "markdown",
   "id": "26af890c",
   "metadata": {},
   "source": [
    "In this exercise, we will reinforce our knowledge of the fundamental concepts of multiple linear regression by implementing  an MLR model and assessing its accuracy. "
   ]
  },
  {
   "cell_type": "markdown",
   "id": "2d230d14",
   "metadata": {
    "tags": []
   },
   "source": [
    "## Learning objectives\n",
    "\n",
    "By the end of this train, you should be able to:\n",
    "* Implement multiple linear regression in Python.\n",
    "* Assess model accuracy by interpreting outputs.\n",
    "* Understand what is meant by linearity and multicollinearity of predictors.\n",
    "* Understand what is meant by independence, homoscedasticity, and normality of residuals and how we can check these in our model output.\n"
   ]
  },
  {
   "cell_type": "markdown",
   "id": "1f9d715c",
   "metadata": {},
   "source": [
    "## The dataset\n",
    "\n",
    "For this exercise, we make use of the `enviro_indicators` dataset. The dataset comprises socio-economic and environmental data collected from various countries, focusing on factors related to sustainable development. It includes information such as forest coverage, biodiversity index, protected areas, rural population, and deforestation rates, aimed at understanding the relationship between human activities and land degradation.\n",
    "\n",
    "The following are the descriptions of the columns in our dataset: \n",
    "\n",
    "* `country`: Name of the country.\n",
    "* `forest_coverage`: Percentage of land covered by forests. This indicator represents the extent of forested areas within the total land area of each country.\n",
    "* `biodiversity_index`: Index representing the biodiversity level in each country. This indicator provides a measure of the variety and variability of organisms within each country's ecosystem.\n",
    "* `protected_areas`: Percentage of land designated as protected areas. This indicator reflects the proportion of land that is legally protected and managed for conservation purposes.\n",
    "* `deforestation_rate`: Annual rate of deforestation (%). This indicator quantifies the percentage of forested land that is lost each year due to deforestation activities.\n",
    "* `carbon_sequestration`: Amount of carbon sequestered by forests (metric tons per hectare). This indicator measures the capacity of forests to absorb and store carbon dioxide from the atmosphere, thus helping mitigate climate change.\n",
    "* `soil_erosion`: Rate of soil erosion (tons per hectare per year). This indicator indicates the amount of soil that is lost or displaced annually due to erosion, which can have detrimental effects on land productivity and ecosystem health.\n",
    "* `land_degradation`: Percentage of land classified as degraded. This indicator represents the proportion of land that has suffered a decline in its ecological condition, often resulting from unsustainable land use practices.\n",
    "* `rural_population`: Percentage of population living in rural areas. This indicator reflects the proportion of a country's population residing in rural areas rather than urban centres.\n",
    "* `population_density`: Population density (people per square kilometre). This indicator quantifies the average number of people living within a unit area of land, providing insights into the distribution of human populations across different countries.\n",
    "\n",
    "\n",
    "We begin by importing some libraries which will help us load and explore our data. "
   ]
  },
  {
   "cell_type": "code",
   "execution_count": 1,
   "id": "bf061db6",
   "metadata": {},
   "outputs": [],
   "source": [
    "import pandas as pd\n",
    "import numpy as np\n",
    "import statsmodels.formula.api as smf\n",
    "import matplotlib.pyplot as plt\n",
    "import statsmodels.graphics.correlation as sgc\n",
    "from statsmodels.graphics.gofplots import qqplot\n",
    "import statsmodels.stats.api as sms\n",
    "from statsmodels.stats.outliers_influence import OLSInfluence"
   ]
  },
  {
   "cell_type": "code",
   "execution_count": 2,
   "id": "bc2130f2",
   "metadata": {},
   "outputs": [
    {
     "data": {
      "application/vnd.microsoft.datawrangler.viewer.v0+json": {
       "columns": [
        {
         "name": "Country",
         "rawType": "object",
         "type": "string"
        },
        {
         "name": "forest_coverage",
         "rawType": "float64",
         "type": "float"
        },
        {
         "name": "biodiversity_index",
         "rawType": "float64",
         "type": "float"
        },
        {
         "name": "protected_areas",
         "rawType": "float64",
         "type": "float"
        },
        {
         "name": "deforestation_rate",
         "rawType": "float64",
         "type": "float"
        },
        {
         "name": "carbon_sequestration",
         "rawType": "float64",
         "type": "float"
        },
        {
         "name": "soil_erosion",
         "rawType": "float64",
         "type": "float"
        },
        {
         "name": "land_degradation",
         "rawType": "float64",
         "type": "float"
        },
        {
         "name": "rural_population",
         "rawType": "float64",
         "type": "float"
        },
        {
         "name": "population_density",
         "rawType": "float64",
         "type": "float"
        }
       ],
       "ref": "ab76f97d-fcef-4db4-bbf1-03d1494a7d3e",
       "rows": [
        [
         "Vietnam",
         "36.217808319315374",
         "6.505159298527952",
         "14.832707839058326",
         "36.58310568003586",
         "53.12845873903581",
         "7.987879521665811",
         "55.02090285816652",
         "35.91214206090353",
         "468.7158393387827"
        ],
        [
         "Guinea-Bissau",
         "76.55000144869413",
         "94.88855372533332",
         "23.994362910538698",
         "123.38493861961146",
         "279.8362861599046",
         "13.01381078127801",
         "41.65507286366339",
         "34.63937860274501",
         "351.05460037073675"
        ],
        [
         "Bosnia and Herzegovina",
         "61.23957592679836",
         "96.56320330745594",
         "9.932347874116694",
         "115.74374489212764",
         "237.83495141695056",
         "13.037064504457",
         "26.951489552435035",
         "78.38063328514673",
         "289.3299733437888"
        ],
        [
         "Lesotho",
         "51.90609389379256",
         "80.83973481164611",
         "33.07689432639139",
         "111.75236909013786",
         "149.9485147118286",
         "11.17971899742041",
         "27.46047873063305",
         "43.58586348000563",
         "57.61648194767658"
        ],
        [
         "Indonesia",
         "20.92130483097056",
         "30.46137691733707",
         "7.609272528791979",
         "46.45032565874237",
         "103.93941530015726",
         "2.715505631033758",
         "46.297783943511966",
         "73.5227933106268",
         "311.35354108259315"
        ]
       ],
       "shape": {
        "columns": 9,
        "rows": 5
       }
      },
      "text/html": [
       "<div>\n",
       "<style scoped>\n",
       "    .dataframe tbody tr th:only-of-type {\n",
       "        vertical-align: middle;\n",
       "    }\n",
       "\n",
       "    .dataframe tbody tr th {\n",
       "        vertical-align: top;\n",
       "    }\n",
       "\n",
       "    .dataframe thead th {\n",
       "        text-align: right;\n",
       "    }\n",
       "</style>\n",
       "<table border=\"1\" class=\"dataframe\">\n",
       "  <thead>\n",
       "    <tr style=\"text-align: right;\">\n",
       "      <th></th>\n",
       "      <th>forest_coverage</th>\n",
       "      <th>biodiversity_index</th>\n",
       "      <th>protected_areas</th>\n",
       "      <th>deforestation_rate</th>\n",
       "      <th>carbon_sequestration</th>\n",
       "      <th>soil_erosion</th>\n",
       "      <th>land_degradation</th>\n",
       "      <th>rural_population</th>\n",
       "      <th>population_density</th>\n",
       "    </tr>\n",
       "    <tr>\n",
       "      <th>Country</th>\n",
       "      <th></th>\n",
       "      <th></th>\n",
       "      <th></th>\n",
       "      <th></th>\n",
       "      <th></th>\n",
       "      <th></th>\n",
       "      <th></th>\n",
       "      <th></th>\n",
       "      <th></th>\n",
       "    </tr>\n",
       "  </thead>\n",
       "  <tbody>\n",
       "    <tr>\n",
       "      <th>Vietnam</th>\n",
       "      <td>36.217808</td>\n",
       "      <td>6.505159</td>\n",
       "      <td>14.832708</td>\n",
       "      <td>36.583106</td>\n",
       "      <td>53.128459</td>\n",
       "      <td>7.987880</td>\n",
       "      <td>55.020903</td>\n",
       "      <td>35.912142</td>\n",
       "      <td>468.715839</td>\n",
       "    </tr>\n",
       "    <tr>\n",
       "      <th>Guinea-Bissau</th>\n",
       "      <td>76.550001</td>\n",
       "      <td>94.888554</td>\n",
       "      <td>23.994363</td>\n",
       "      <td>123.384939</td>\n",
       "      <td>279.836286</td>\n",
       "      <td>13.013811</td>\n",
       "      <td>41.655073</td>\n",
       "      <td>34.639379</td>\n",
       "      <td>351.054600</td>\n",
       "    </tr>\n",
       "    <tr>\n",
       "      <th>Bosnia and Herzegovina</th>\n",
       "      <td>61.239576</td>\n",
       "      <td>96.563203</td>\n",
       "      <td>9.932348</td>\n",
       "      <td>115.743745</td>\n",
       "      <td>237.834951</td>\n",
       "      <td>13.037065</td>\n",
       "      <td>26.951490</td>\n",
       "      <td>78.380633</td>\n",
       "      <td>289.329973</td>\n",
       "    </tr>\n",
       "    <tr>\n",
       "      <th>Lesotho</th>\n",
       "      <td>51.906094</td>\n",
       "      <td>80.839735</td>\n",
       "      <td>33.076894</td>\n",
       "      <td>111.752369</td>\n",
       "      <td>149.948515</td>\n",
       "      <td>11.179719</td>\n",
       "      <td>27.460479</td>\n",
       "      <td>43.585863</td>\n",
       "      <td>57.616482</td>\n",
       "    </tr>\n",
       "    <tr>\n",
       "      <th>Indonesia</th>\n",
       "      <td>20.921305</td>\n",
       "      <td>30.461377</td>\n",
       "      <td>7.609273</td>\n",
       "      <td>46.450326</td>\n",
       "      <td>103.939415</td>\n",
       "      <td>2.715506</td>\n",
       "      <td>46.297784</td>\n",
       "      <td>73.522793</td>\n",
       "      <td>311.353541</td>\n",
       "    </tr>\n",
       "  </tbody>\n",
       "</table>\n",
       "</div>"
      ],
      "text/plain": [
       "                        forest_coverage  biodiversity_index  protected_areas  \\\n",
       "Country                                                                        \n",
       "Vietnam                       36.217808            6.505159        14.832708   \n",
       "Guinea-Bissau                 76.550001           94.888554        23.994363   \n",
       "Bosnia and Herzegovina        61.239576           96.563203         9.932348   \n",
       "Lesotho                       51.906094           80.839735        33.076894   \n",
       "Indonesia                     20.921305           30.461377         7.609273   \n",
       "\n",
       "                        deforestation_rate  carbon_sequestration  \\\n",
       "Country                                                            \n",
       "Vietnam                          36.583106             53.128459   \n",
       "Guinea-Bissau                   123.384939            279.836286   \n",
       "Bosnia and Herzegovina          115.743745            237.834951   \n",
       "Lesotho                         111.752369            149.948515   \n",
       "Indonesia                        46.450326            103.939415   \n",
       "\n",
       "                        soil_erosion  land_degradation  rural_population  \\\n",
       "Country                                                                    \n",
       "Vietnam                     7.987880         55.020903         35.912142   \n",
       "Guinea-Bissau              13.013811         41.655073         34.639379   \n",
       "Bosnia and Herzegovina     13.037065         26.951490         78.380633   \n",
       "Lesotho                    11.179719         27.460479         43.585863   \n",
       "Indonesia                   2.715506         46.297784         73.522793   \n",
       "\n",
       "                        population_density  \n",
       "Country                                     \n",
       "Vietnam                         468.715839  \n",
       "Guinea-Bissau                   351.054600  \n",
       "Bosnia and Herzegovina          289.329973  \n",
       "Lesotho                          57.616482  \n",
       "Indonesia                       311.353541  "
      ]
     },
     "execution_count": 2,
     "metadata": {},
     "output_type": "execute_result"
    }
   ],
   "source": [
    "# Read the data\n",
    "environmental_indicators = pd.read_csv('https://raw.githubusercontent.com/Explore-AI/Public-Data/master/Data/regression_sprint/enviro_indicators.csv', index_col=0)\n",
    "environmental_indicators.head()"
   ]
  },
  {
   "cell_type": "code",
   "execution_count": 3,
   "id": "8c64c30c",
   "metadata": {},
   "outputs": [
    {
     "data": {
      "text/plain": [
       "(32, 9)"
      ]
     },
     "execution_count": 3,
     "metadata": {},
     "output_type": "execute_result"
    }
   ],
   "source": [
    "environmental_indicators.shape"
   ]
  },
  {
   "cell_type": "code",
   "execution_count": 6,
   "id": "f172a8a1",
   "metadata": {},
   "outputs": [
    {
     "data": {
      "application/vnd.microsoft.datawrangler.viewer.v0+json": {
       "columns": [
        {
         "name": "index",
         "rawType": "object",
         "type": "string"
        },
        {
         "name": "0",
         "rawType": "object",
         "type": "unknown"
        }
       ],
       "ref": "3af33d40-b6fe-49e7-aa58-a39fab9492fa",
       "rows": [
        [
         "forest_coverage",
         "float64"
        ],
        [
         "biodiversity_index",
         "float64"
        ],
        [
         "protected_areas",
         "float64"
        ],
        [
         "deforestation_rate",
         "float64"
        ],
        [
         "carbon_sequestration",
         "float64"
        ],
        [
         "soil_erosion",
         "float64"
        ],
        [
         "land_degradation",
         "float64"
        ],
        [
         "rural_population",
         "float64"
        ],
        [
         "population_density",
         "float64"
        ]
       ],
       "shape": {
        "columns": 1,
        "rows": 9
       }
      },
      "text/plain": [
       "forest_coverage         float64\n",
       "biodiversity_index      float64\n",
       "protected_areas         float64\n",
       "deforestation_rate      float64\n",
       "carbon_sequestration    float64\n",
       "soil_erosion            float64\n",
       "land_degradation        float64\n",
       "rural_population        float64\n",
       "population_density      float64\n",
       "dtype: object"
      ]
     },
     "execution_count": 6,
     "metadata": {},
     "output_type": "execute_result"
    }
   ],
   "source": [
    "environmental_indicators.dtypes"
   ]
  },
  {
   "cell_type": "markdown",
   "id": "661bad04",
   "metadata": {},
   "source": [
    "## Exercises\n",
    "\n",
    "As part of a conservation effort, we are tasked with building a predictive model to understand the factors influencing the biodiversity index across different countries. \n",
    "\n",
    "Use the flow of these exercises as a guide to build a **multiple linear regression model**. "
   ]
  },
  {
   "attachments": {},
   "cell_type": "markdown",
   "id": "b2ca9fd0",
   "metadata": {},
   "source": [
    "### Exercise 1\n",
    "\n",
    "Print the first few rows of the dataset, the summary statistics, and check for missing values. Doing this provides an overview of the structure of the data and highlights whether there are any issues with missing data. "
   ]
  },
  {
   "cell_type": "code",
   "execution_count": null,
   "id": "7b4c4879",
   "metadata": {},
   "outputs": [
    {
     "name": "stdout",
     "output_type": "stream",
     "text": [
      "summary statistics\n"
     ]
    },
    {
     "name": "stdout",
     "output_type": "stream",
     "text": [
      "                      count    mean     std    min     25%     50%     75%  \\\n",
      "forest_coverage        32.0   40.48   19.53  11.44   22.81   38.23   52.60   \n",
      "biodiversity_index     32.0   49.87   32.20   3.44   24.31   46.77   81.35   \n",
      "protected_areas        32.0   22.54   10.34   5.19   14.11   24.32   31.72   \n",
      "deforestation_rate     32.0   69.06   30.10  18.11   46.13   70.84   90.63   \n",
      "carbon_sequestration   32.0  255.65  132.05  53.13  158.64  225.73  355.94   \n",
      "soil_erosion           32.0    9.87    5.46   1.32    5.11   10.90   13.62   \n",
      "land_degradation       32.0   35.26   14.56  10.25   21.70   40.99   45.78   \n",
      "rural_population       32.0   53.22   18.55  20.93   37.46   51.78   71.77   \n",
      "population_density     32.0  299.59  129.85  27.61  227.12  319.92  402.52   \n",
      "\n",
      "                         max  \n",
      "forest_coverage        77.89  \n",
      "biodiversity_index     96.96  \n",
      "protected_areas        39.54  \n",
      "deforestation_rate    128.12  \n",
      "carbon_sequestration  493.54  \n",
      "soil_erosion           18.80  \n",
      "land_degradation       55.02  \n",
      "rural_population       78.38  \n",
      "population_density    495.13  \n"
     ]
    }
   ],
   "source": [
    "print('summary statistics')\n",
    "\n",
    "print(round(environmental_indicators.describe(), 2).T)"
   ]
  },
  {
   "cell_type": "code",
   "execution_count": 6,
   "id": "b027b064",
   "metadata": {},
   "outputs": [
    {
     "name": "stdout",
     "output_type": "stream",
     "text": [
      "check for missing values\n",
      "forest_coverage         0\n",
      "biodiversity_index      0\n",
      "protected_areas         0\n",
      "deforestation_rate      0\n",
      "carbon_sequestration    0\n",
      "soil_erosion            0\n",
      "land_degradation        0\n",
      "rural_population        0\n",
      "population_density      0\n",
      "dtype: int64\n"
     ]
    }
   ],
   "source": [
    "print('check for missing values')\n",
    "\n",
    "print(environmental_indicators.isna().sum())"
   ]
  },
  {
   "attachments": {},
   "cell_type": "markdown",
   "id": "98efc31e",
   "metadata": {},
   "source": [
    "### Exercise 2\n",
    "\n",
    "Create a correlation matrix using the columns in the data. We do this to see whether there are potentially strong relationships between the independent variables and the dependant variable, but it can also be used to investigate potential multicollinearity between the independent variables.\n"
   ]
  },
  {
   "cell_type": "code",
   "execution_count": 8,
   "id": "30b81f87",
   "metadata": {},
   "outputs": [
    {
     "name": "stdout",
     "output_type": "stream",
     "text": [
      "\u001b[31mSignature:\u001b[39m\n",
      "sns.heatmap(\n",
      "    data,\n",
      "    *,\n",
      "    vmin=\u001b[38;5;28;01mNone\u001b[39;00m,\n",
      "    vmax=\u001b[38;5;28;01mNone\u001b[39;00m,\n",
      "    cmap=\u001b[38;5;28;01mNone\u001b[39;00m,\n",
      "    center=\u001b[38;5;28;01mNone\u001b[39;00m,\n",
      "    robust=\u001b[38;5;28;01mFalse\u001b[39;00m,\n",
      "    annot=\u001b[38;5;28;01mNone\u001b[39;00m,\n",
      "    fmt=\u001b[33m'.2g'\u001b[39m,\n",
      "    annot_kws=\u001b[38;5;28;01mNone\u001b[39;00m,\n",
      "    linewidths=\u001b[32m0\u001b[39m,\n",
      "    linecolor=\u001b[33m'white'\u001b[39m,\n",
      "    cbar=\u001b[38;5;28;01mTrue\u001b[39;00m,\n",
      "    cbar_kws=\u001b[38;5;28;01mNone\u001b[39;00m,\n",
      "    cbar_ax=\u001b[38;5;28;01mNone\u001b[39;00m,\n",
      "    square=\u001b[38;5;28;01mFalse\u001b[39;00m,\n",
      "    xticklabels=\u001b[33m'auto'\u001b[39m,\n",
      "    yticklabels=\u001b[33m'auto'\u001b[39m,\n",
      "    mask=\u001b[38;5;28;01mNone\u001b[39;00m,\n",
      "    ax=\u001b[38;5;28;01mNone\u001b[39;00m,\n",
      "    **kwargs,\n",
      ")\n",
      "\u001b[31mDocstring:\u001b[39m\n",
      "Plot rectangular data as a color-encoded matrix.\n",
      "\n",
      "This is an Axes-level function and will draw the heatmap into the\n",
      "currently-active Axes if none is provided to the ``ax`` argument.  Part of\n",
      "this Axes space will be taken and used to plot a colormap, unless ``cbar``\n",
      "is False or a separate Axes is provided to ``cbar_ax``.\n",
      "\n",
      "Parameters\n",
      "----------\n",
      "data : rectangular dataset\n",
      "    2D dataset that can be coerced into an ndarray. If a Pandas DataFrame\n",
      "    is provided, the index/column information will be used to label the\n",
      "    columns and rows.\n",
      "vmin, vmax : floats, optional\n",
      "    Values to anchor the colormap, otherwise they are inferred from the\n",
      "    data and other keyword arguments.\n",
      "cmap : matplotlib colormap name or object, or list of colors, optional\n",
      "    The mapping from data values to color space. If not provided, the\n",
      "    default will depend on whether ``center`` is set.\n",
      "center : float, optional\n",
      "    The value at which to center the colormap when plotting divergent data.\n",
      "    Using this parameter will change the default ``cmap`` if none is\n",
      "    specified.\n",
      "robust : bool, optional\n",
      "    If True and ``vmin`` or ``vmax`` are absent, the colormap range is\n",
      "    computed with robust quantiles instead of the extreme values.\n",
      "annot : bool or rectangular dataset, optional\n",
      "    If True, write the data value in each cell. If an array-like with the\n",
      "    same shape as ``data``, then use this to annotate the heatmap instead\n",
      "    of the data. Note that DataFrames will match on position, not index.\n",
      "fmt : str, optional\n",
      "    String formatting code to use when adding annotations.\n",
      "annot_kws : dict of key, value mappings, optional\n",
      "    Keyword arguments for :meth:`matplotlib.axes.Axes.text` when ``annot``\n",
      "    is True.\n",
      "linewidths : float, optional\n",
      "    Width of the lines that will divide each cell.\n",
      "linecolor : color, optional\n",
      "    Color of the lines that will divide each cell.\n",
      "cbar : bool, optional\n",
      "    Whether to draw a colorbar.\n",
      "cbar_kws : dict of key, value mappings, optional\n",
      "    Keyword arguments for :meth:`matplotlib.figure.Figure.colorbar`.\n",
      "cbar_ax : matplotlib Axes, optional\n",
      "    Axes in which to draw the colorbar, otherwise take space from the\n",
      "    main Axes.\n",
      "square : bool, optional\n",
      "    If True, set the Axes aspect to \"equal\" so each cell will be\n",
      "    square-shaped.\n",
      "xticklabels, yticklabels : \"auto\", bool, list-like, or int, optional\n",
      "    If True, plot the column names of the dataframe. If False, don't plot\n",
      "    the column names. If list-like, plot these alternate labels as the\n",
      "    xticklabels. If an integer, use the column names but plot only every\n",
      "    n label. If \"auto\", try to densely plot non-overlapping labels.\n",
      "mask : bool array or DataFrame, optional\n",
      "    If passed, data will not be shown in cells where ``mask`` is True.\n",
      "    Cells with missing values are automatically masked.\n",
      "ax : matplotlib Axes, optional\n",
      "    Axes in which to draw the plot, otherwise use the currently-active\n",
      "    Axes.\n",
      "kwargs : other keyword arguments\n",
      "    All other keyword arguments are passed to\n",
      "    :meth:`matplotlib.axes.Axes.pcolormesh`.\n",
      "\n",
      "Returns\n",
      "-------\n",
      "ax : matplotlib Axes\n",
      "    Axes object with the heatmap.\n",
      "\n",
      "See Also\n",
      "--------\n",
      "clustermap : Plot a matrix using hierarchical clustering to arrange the\n",
      "             rows and columns.\n",
      "\n",
      "Examples\n",
      "--------\n",
      "\n",
      ".. include:: ../docstrings/heatmap.rst\n",
      "\u001b[31mFile:\u001b[39m      c:\\users\\morinyo baddestman\\appdata\\roaming\\python\\python313\\site-packages\\seaborn\\matrix.py\n",
      "\u001b[31mType:\u001b[39m      function"
     ]
    }
   ],
   "source": [
    "import seaborn as sns\n",
    "sns.heatmap?"
   ]
  },
  {
   "cell_type": "code",
   "execution_count": 15,
   "id": "8d4da463",
   "metadata": {},
   "outputs": [
    {
     "data": {
      "image/png": "[encoded data removed]",
      "text/plain": [
       "<Figure size 640x480 with 2 Axes>"
      ]
     },
     "metadata": {},
     "output_type": "display_data"
    }
   ],
   "source": [
    "# use .corr to create a correlation matrix\n",
    "corr = round(environmental_indicators.drop('biodiversity_index', axis = 1).corr(), 2)\n",
    "\n",
    "#plot correlation heatmap using sns\n",
    "sns.set_style('dark')\n",
    "\n",
    "sns.heatmap(data=corr,  annot=True, cmap='coolwarm')\n",
    "plt.title('Correlation_HeatMap')\n",
    "plt.show()"
   ]
  },
  {
   "cell_type": "code",
   "execution_count": 19,
   "id": "1789f0f5",
   "metadata": {},
   "outputs": [
    {
     "name": "stdout",
     "output_type": "stream",
     "text": [
      "\u001b[31mSignature:\u001b[39m\n",
      "plot_corr_grid(\n",
      "    dcorrs,\n",
      "    titles=\u001b[38;5;28;01mNone\u001b[39;00m,\n",
      "    ncols=\u001b[38;5;28;01mNone\u001b[39;00m,\n",
      "    normcolor=\u001b[38;5;28;01mFalse\u001b[39;00m,\n",
      "    xnames=\u001b[38;5;28;01mNone\u001b[39;00m,\n",
      "    ynames=\u001b[38;5;28;01mNone\u001b[39;00m,\n",
      "    fig=\u001b[38;5;28;01mNone\u001b[39;00m,\n",
      "    cmap=\u001b[33m'RdYlBu_r'\u001b[39m,\n",
      ")\n",
      "\u001b[31mDocstring:\u001b[39m\n",
      "Create a grid of correlation plots.\n",
      "\n",
      "The individual correlation plots are assumed to all have the same\n",
      "variables, axis labels can be specified only once.\n",
      "\n",
      "Parameters\n",
      "----------\n",
      "dcorrs : list or iterable of ndarrays\n",
      "    List of correlation matrices.\n",
      "titles : list[str], optional\n",
      "    List of titles for the subplots.  By default no title are shown.\n",
      "ncols : int, optional\n",
      "    Number of columns in the subplot grid.  If not given, the number of\n",
      "    columns is determined automatically.\n",
      "normcolor : bool or tuple, optional\n",
      "    If False (default), then the color coding range corresponds to the\n",
      "    range of `dcorr`.  If True, then the color range is normalized to\n",
      "    (-1, 1).  If this is a tuple of two numbers, then they define the range\n",
      "    for the color bar.\n",
      "xnames : list[str], optional\n",
      "    Labels for the horizontal axis.  If not given (None), then the\n",
      "    matplotlib defaults (integers) are used.  If it is an empty list, [],\n",
      "    then no ticks and labels are added.\n",
      "ynames : list[str], optional\n",
      "    Labels for the vertical axis.  Works the same way as `xnames`.\n",
      "    If not given, the same names as for `xnames` are re-used.\n",
      "fig : Figure, optional\n",
      "    If given, this figure is simply returned.  Otherwise a new figure is\n",
      "    created.\n",
      "cmap : str or Matplotlib Colormap instance, optional\n",
      "    The colormap for the plot.  Can be any valid Matplotlib Colormap\n",
      "    instance or name.\n",
      "\n",
      "Returns\n",
      "-------\n",
      "Figure\n",
      "    If `ax` is None, the created figure.  Otherwise the figure to which\n",
      "    `ax` is connected.\n",
      "\n",
      "Examples\n",
      "--------\n",
      ">>> import numpy as np\n",
      ">>> import matplotlib.pyplot as plt\n",
      ">>> import statsmodels.api as sm\n",
      "\n",
      "In this example we just reuse the same correlation matrix several times.\n",
      "Of course in reality one would show a different correlation (measuring a\n",
      "another type of correlation, for example Pearson (linear) and Spearman,\n",
      "Kendall (nonlinear) correlations) for the same variables.\n",
      "\n",
      ">>> hie_data = sm.datasets.randhie.load_pandas()\n",
      ">>> corr_matrix = np.corrcoef(hie_data.data.T)\n",
      ">>> sm.graphics.plot_corr_grid([corr_matrix] * 8, xnames=hie_data.names)\n",
      ">>> plt.show()\n",
      "\n",
      ".. plot:: plots/graphics_correlation_plot_corr_grid.py\n",
      "\u001b[31mFile:\u001b[39m      c:\\users\\morinyo baddestman\\appdata\\roaming\\python\\python313\\site-packages\\statsmodels\\graphics\\correlation.py\n",
      "\u001b[31mType:\u001b[39m      function"
     ]
    }
   ],
   "source": [
    "plot_corr_grid?"
   ]
  },
  {
   "attachments": {},
   "cell_type": "markdown",
   "id": "84632575",
   "metadata": {},
   "source": [
    "Looking at the matrix result, which variables appear to be related? \n",
    "\n",
    "It is, however, difficult to view the data well in table format. It might be more useful to display it as a heatmap.\n",
    "\n",
    "1) Use the `statsmodels.graphics.correlation` package to show the correlation heatmap for the variables. \n",
    "2) What relationships exist?"
   ]
  },
  {
   "cell_type": "code",
   "execution_count": 22,
   "id": "35d92134",
   "metadata": {},
   "outputs": [
    {
     "data": {
      "image/png": "[encoded data removed]",
      "text/plain": [
       "<Figure size 640x480 with 2 Axes>"
      ]
     },
     "metadata": {},
     "output_type": "display_data"
    }
   ],
   "source": [
    "# plot using statsmodels.graphics.correlation\n",
    "from statsmodels.graphics.correlation import plot_corr\n",
    "fig = plot_corr(corr, xnames= corr.columns)"
   ]
  },
  {
   "attachments": {},
   "cell_type": "markdown",
   "id": "6f2c6b3d",
   "metadata": {},
   "source": [
    "### Exercise 3\n",
    "\n",
    "Knowing what we know about the relationships between the variables, it's time to build our regression model. To get started, include all the numeric variables in the model. Remember that `biodiversity_index` is the dependent variable.\n",
    "\n",
    "Print the summary of the fitted model."
   ]
  },
  {
   "cell_type": "code",
   "execution_count": null,
   "id": "1f25f3fc",
   "metadata": {},
   "outputs": [
    {
     "data": {
      "text/plain": [
       "['forest_coverage',\n",
       " 'protected_areas',\n",
       " 'deforestation_rate',\n",
       " 'carbon_sequestration',\n",
       " 'soil_erosion',\n",
       " 'land_degradation',\n",
       " 'rural_population',\n",
       " 'population_density']"
      ]
     },
     "execution_count": 21,
     "metadata": {},
     "output_type": "execute_result"
    }
   ],
   "source": [
    "# Specifying the variables of interest\n",
    "independent_cols = ['forest_coverage',  'protected_areas',\n",
    "       'deforestation_rate', 'carbon_sequestration', 'soil_erosion',\n",
    "       'land_degradation', 'rural_population', 'population_density']\n",
    "\n",
    "dependent_var = 'biodiversity_index'\n"
   ]
  },
  {
   "cell_type": "code",
   "execution_count": 26,
   "id": "109ae014",
   "metadata": {},
   "outputs": [
    {
     "name": "stdout",
     "output_type": "stream",
     "text": [
      "                            OLS Regression Results                            \n",
      "==============================================================================\n",
      "Dep. Variable:     biodiversity_index   R-squared:                       0.967\n",
      "Model:                            OLS   Adj. R-squared:                  0.956\n",
      "Method:                 Least Squares   F-statistic:                     85.25\n",
      "Date:                Sat, 14 Jun 2025   Prob (F-statistic):           2.99e-15\n",
      "Time:                        14:31:20   Log-Likelihood:                -101.24\n",
      "No. Observations:                  32   AIC:                             220.5\n",
      "Df Residuals:                      23   BIC:                             233.7\n",
      "Df Model:                           8                                         \n",
      "Covariance Type:            nonrobust                                         \n",
      "========================================================================================\n",
      "                           coef    std err          t      P>|t|      [0.025      0.975]\n",
      "----------------------------------------------------------------------------------------\n",
      "Intercept                0.2536      7.169      0.035      0.972     -14.577      15.084\n",
      "forest_coverage         -0.5592      0.079     -7.083      0.000      -0.723      -0.396\n",
      "protected_areas         -0.5416      0.128     -4.235      0.000      -0.806      -0.277\n",
      "deforestation_rate       1.2299      0.052     23.864      0.000       1.123       1.337\n",
      "carbon_sequestration    -0.0087      0.011     -0.813      0.425      -0.031       0.013\n",
      "soil_erosion             0.4042      0.248      1.627      0.117      -0.110       0.918\n",
      "land_degradation         0.0403      0.092      0.436      0.667      -0.151       0.232\n",
      "rural_population        -0.0951      0.069     -1.373      0.183      -0.238       0.048\n",
      "population_density       0.0046      0.011      0.439      0.664      -0.017       0.026\n",
      "==============================================================================\n",
      "Omnibus:                        0.520   Durbin-Watson:                   1.566\n",
      "Prob(Omnibus):                  0.771   Jarque-Bera (JB):                0.053\n",
      "Skew:                          -0.066   Prob(JB):                        0.974\n",
      "Kurtosis:                       3.149   Cond. No.                     2.52e+03\n",
      "==============================================================================\n",
      "\n",
      "Notes:\n",
      "[1] Standard Errors assume that the covariance matrix of the errors is correctly specified.\n",
      "[2] The condition number is large, 2.52e+03. This might indicate that there are\n",
      "strong multicollinearity or other numerical problems.\n"
     ]
    }
   ],
   "source": [
    "formula_string = dependent_var+' ~ '+ '+'.join(independent_cols)\n",
    "\n",
    "# \n",
    "model = smf.ols(formula=formula_string, data =environmental_indicators )\n",
    "\n",
    "# fit the model\n",
    "fitted = model.fit()\n",
    "\n",
    "# print summary\n",
    "print(fitted.summary())\n",
    "\n"
   ]
  },
  {
   "attachments": {},
   "cell_type": "markdown",
   "id": "12e1236a",
   "metadata": {},
   "source": [
    "### Exercise 4\n",
    "\n",
    "The output from this model seems somewhat strange, with a comment warning of probable multicollinearity. Furthermore, some of the coefficient p-values are rather high (larger than expected). It may be worthwhile to consider which variables appear to be associated with the dependent variable, maintaining those, and possibly removing a few additional factors where there is potential for multicollinearity.\n",
    "\n",
    "Create another version of the model with fewer independent variables and see if the warning can be silenced. "
   ]
  },
  {
   "cell_type": "code",
   "execution_count": 32,
   "id": "dc05991e",
   "metadata": {},
   "outputs": [
    {
     "name": "stdout",
     "output_type": "stream",
     "text": [
      "                            OLS Regression Results                            \n",
      "==============================================================================\n",
      "Dep. Variable:     biodiversity_index   R-squared:                       0.967\n",
      "Model:                            OLS   Adj. R-squared:                  0.959\n",
      "Method:                 Least Squares   F-statistic:                     121.6\n",
      "Date:                Thu, 19 Jun 2025   Prob (F-statistic):           2.93e-17\n",
      "Time:                        16:27:06   Log-Likelihood:                -101.48\n",
      "No. Observations:                  32   AIC:                             217.0\n",
      "Df Residuals:                      25   BIC:                             227.2\n",
      "Df Model:                           6                                         \n",
      "Covariance Type:            nonrobust                                         \n",
      "========================================================================================\n",
      "                           coef    std err          t      P>|t|      [0.025      0.975]\n",
      "----------------------------------------------------------------------------------------\n",
      "Intercept                3.0479      5.252      0.580      0.567      -7.769      13.865\n",
      "forest_coverage         -0.5453      0.073     -7.492      0.000      -0.695      -0.395\n",
      "protected_areas         -0.5487      0.123     -4.469      0.000      -0.802      -0.296\n",
      "deforestation_rate       1.2205      0.047     25.758      0.000       1.123       1.318\n",
      "carbon_sequestration    -0.0089      0.009     -0.964      0.344      -0.028       0.010\n",
      "soil_erosion             0.4009      0.237      1.693      0.103      -0.087       0.888\n",
      "rural_population        -0.0884      0.065     -1.359      0.186      -0.222       0.046\n",
      "==============================================================================\n",
      "Omnibus:                        0.518   Durbin-Watson:                   1.547\n",
      "Prob(Omnibus):                  0.772   Jarque-Bera (JB):                0.080\n",
      "Skew:                           0.107   Prob(JB):                        0.961\n",
      "Kurtosis:                       3.119   Cond. No.                     1.37e+03\n",
      "==============================================================================\n",
      "\n",
      "Notes:\n",
      "[1] Standard Errors assume that the covariance matrix of the errors is correctly specified.\n",
      "[2] The condition number is large, 1.37e+03. This might indicate that there are\n",
      "strong multicollinearity or other numerical problems.\n"
     ]
    }
   ],
   "source": [
    "# remove the land_degradation and population_density  columns as they have a high p_value indicating no significant statistical importance\n",
    "new_cols = [c for c in environmental_indicators.columns if c not in ['land_degradation' , 'population_density' ,'biodiversity_index']]\n",
    "dep_col ='biodiversity_index'\n",
    "\n",
    "# create a formula string\n",
    "f_string = dep_col + '~' + '+'.join(new_cols)\n",
    "\n",
    "# initialise statsmodels \n",
    "modell = smf.ols(formula=f_string, data =environmental_indicators )\n",
    "\n",
    "# fit model\n",
    "fittedd = modell.fit()\n",
    "\n",
    "# print summary \n",
    "print(fittedd.summary())"
   ]
  },
  {
   "attachments": {},
   "cell_type": "markdown",
   "id": "7973d4d7",
   "metadata": {},
   "source": [
    "### Exercise 5\n",
    "\n",
    "Evaluate the accuracy and reliability of the multiple linear regression model by conducting various diagnostic tests.\n",
    "\n",
    "Check for linearity by visually inspecting scatter plots between each independent variable and the biodiversity index. This will help in understanding whether the relationship between the independent variables and the biodiversity index is linear.\n",
    "\n",
    "What can we conclude from the charts? Are there any linear relationships visible? "
   ]
  },
  {
   "cell_type": "code",
   "execution_count": null,
   "id": "1b2da431",
   "metadata": {},
   "outputs": [],
   "source": [
    "# scatter plots btwn \n",
    "fig, ax = plt.subplots()\n",
    "for "
   ]
  },
  {
   "cell_type": "markdown",
   "id": "3dd845dd",
   "metadata": {},
   "source": [
    "### Exercise 6\n",
    "Visualise the relationship between predictor variables and model residuals to assess the independence of residuals using scatter plots. Do we see any obvious dependence of residuals? How would we know?"
   ]
  },
  {
   "cell_type": "code",
   "execution_count": null,
   "id": "a291fd80",
   "metadata": {},
   "outputs": [],
   "source": [
    "# insert code here\n"
   ]
  },
  {
   "cell_type": "markdown",
   "id": "6c66410e",
   "metadata": {},
   "source": [
    "### Exercise 7\n",
    "\n",
    "Check for homoscedasticity by conducting a `Breusch-Pagan` test on our model. Interpret the results to determine whether homoscedasticity could possibly be satisfied for our regression model."
   ]
  },
  {
   "cell_type": "code",
   "execution_count": null,
   "id": "82ed562f",
   "metadata": {},
   "outputs": [],
   "source": [
    "# insert code here"
   ]
  },
  {
   "cell_type": "markdown",
   "id": "6a1b5e12",
   "metadata": {},
   "source": [
    "### Exercise 8\n",
    "Check for the normality of residuals by creating a Q-Q plot of the normalised residuals to visually assess their normality."
   ]
  },
  {
   "cell_type": "code",
   "execution_count": null,
   "id": "019f8041",
   "metadata": {},
   "outputs": [],
   "source": [
    "# insert code here"
   ]
  },
  {
   "cell_type": "markdown",
   "id": "3d8842ca",
   "metadata": {},
   "source": [
    "### Question 9\n",
    "\n",
    "To ensure the accuracy of our regression model, it's crucial to check for outliers that might significantly affect the model's coefficients and predictions. Use Cook's distance to visually inspect a plot of residuals vs. fitted values by identifying potential outliers. \n",
    "\n",
    "Interpret the results."
   ]
  },
  {
   "cell_type": "code",
   "execution_count": null,
   "id": "26b1de3f",
   "metadata": {},
   "outputs": [],
   "source": [
    "# insert code here"
   ]
  },
  {
   "cell_type": "markdown",
   "id": "e9956efe",
   "metadata": {
    "tags": []
   },
   "source": [
    "## Solutions"
   ]
  },
  {
   "cell_type": "markdown",
   "id": "42dba616",
   "metadata": {},
   "source": [
    "### Exercise 1\n",
    "\n",
    "Print the first few rows of the dataset, summary statistics, and test for missing values. Doing this provides an overview of the structure of the data and highlights whether there are any issues with missing data. \n"
   ]
  },
  {
   "cell_type": "code",
   "execution_count": null,
   "id": "62341cd8",
   "metadata": {},
   "outputs": [],
   "source": [
    "\n",
    "# Print the first few rows of the dataset\n",
    "print(\"First few rows of the dataset:\")\n",
    "print(environmental_indicators.head())\n",
    "\n",
    "# Print the summary statistics of the dataset\n",
    "print(\"\\nSummary statistics of the dataset:\")\n",
    "print(environmental_indicators.describe())\n",
    "\n",
    "# Check for missing values in the dataset\n",
    "print(\"\\nMissing values in the dataset:\")\n",
    "print(environmental_indicators.isnull().sum())\n",
    "\n",
    "# Exclude non-numeric columns before computing the correlation matrix\n",
    "numeric_columns = environmental_indicators.select_dtypes(include=[np.number])\n",
    "\n",
    "\n"
   ]
  },
  {
   "attachments": {},
   "cell_type": "markdown",
   "id": "7d892fee",
   "metadata": {},
   "source": [
    "### Exercise 2\n",
    "\n",
    "Create a correlation matrix using the columns in the data. We do this to see whether there are potentially strong relationships between the independent variables and the dependant variable, but it can also be used to investigate potential multicollinearity between the independent variables.\n"
   ]
  },
  {
   "cell_type": "code",
   "execution_count": null,
   "id": "3d204bc8",
   "metadata": {},
   "outputs": [],
   "source": [
    "# Create the correlation_matrix\n",
    "correlation_matrix = numeric_columns.corr()\n",
    "\n",
    "print(\"\\nCorrelation matrix of the variables:\")\n",
    "correlation_matrix"
   ]
  },
  {
   "attachments": {},
   "cell_type": "markdown",
   "id": "20c19329",
   "metadata": {},
   "source": [
    "Looking at the matrix result, which variables appear to be related? \n",
    "\n",
    "It is, however, difficult to view the data well in table format. It might be more useful to display it as a heatmap.\n",
    "\n",
    "1) Use the `statsmodels.graphics.correlation` package to show the correlation heatmap for the variables. \n",
    "2) What relationships exist?"
   ]
  },
  {
   "cell_type": "code",
   "execution_count": null,
   "id": "250d4a0d",
   "metadata": {},
   "outputs": [],
   "source": [
    "# Exclude non-numeric columns (like 'country') and the dependent variable from the correlation matrix\n",
    "numeric_dependent_variables = environmental_indicators\n",
    "# Compute the correlation matrix\n",
    "corr_matrix = numeric_dependent_variables.corr()\n",
    "\n",
    "# Generate the correlation heatmap\n",
    "plt.figure(figsize=(10, 8))\n",
    "sgc.plot_corr(corr_matrix, xnames=corr_matrix.columns)\n",
    "plt.title('Correlation Heatmap of Variables')\n",
    "plt.show()"
   ]
  },
  {
   "attachments": {},
   "cell_type": "markdown",
   "id": "d08d28aa",
   "metadata": {},
   "source": [
    "Based on the heatmap, we can see that there is some form of correlation between the following variables:\n",
    "1) `deforestation_rate` and `forest_coverage`\n",
    "2) `soil_erosion` and `protected_areas`\n",
    "3) `soil_erosion` and `carbon_sequestration`\n",
    "4) `land_degradation` and `carbon_sequestration`\n",
    "5) `deforestation_rate` and `biodiversity_index`\n",
    "6) `biodiversity_index` and `forest_coverage`\n",
    "\n",
    "Realistically, we can see that `forest_coverage` is related to `deforestation_rate` in some way, as there needs to be a forest before it can be deforested. `deforestation_rate` also has a relatively strong relationship with `biodiversity_index`.  "
   ]
  },
  {
   "attachments": {},
   "cell_type": "markdown",
   "id": "90481009",
   "metadata": {},
   "source": [
    "### Exercise 3\n",
    "\n",
    "Knowing what we know about the relationships between the variables, it's time to build our regression model. To get started, include all the numeric variables in the model. Remember that `biodiversity_index` is the dependent variable.\n",
    "\n",
    "Print the summary of the fitted model."
   ]
  },
  {
   "cell_type": "code",
   "execution_count": null,
   "id": "65d3401c",
   "metadata": {},
   "outputs": [],
   "source": [
    "independent_cols = ['forest_coverage',  'protected_areas',\n",
    "       'deforestation_rate', 'carbon_sequestration', 'soil_erosion',\n",
    "       'land_degradation', 'rural_population', 'population_density']\n",
    "\n",
    "dependent_var = 'biodiversity_index'"
   ]
  },
  {
   "cell_type": "code",
   "execution_count": null,
   "id": "6477dc99",
   "metadata": {},
   "outputs": [],
   "source": [
    "# Generating the regression string\n",
    "formula_str = dependent_var+ ' ~ ' + ' + '.join(independent_cols)\n",
    "formula_str\n",
    "# Construct and fit the model\n",
    "model = smf.ols(formula=formula_str, data=environmental_indicators)\n",
    "fitted = model.fit()\n",
    "\n",
    "# Print the summary of the fitted model\n",
    "print(fitted.summary())"
   ]
  },
  {
   "cell_type": "markdown",
   "id": "5cdb3a39",
   "metadata": {},
   "source": [
    "The output from this model seems somewhat strange, as there is a note warning of potential multicollinearity. In addition, some of the p-values on the coefficients are quite high (larger than we would like). It might be worth looking at which variables seem to be correlated with the dependent variable, keeping those, and maybe dropping a few other variables where there might be multicollinearity. The issue with this is that our model might be highly unstable. "
   ]
  },
  {
   "attachments": {},
   "cell_type": "markdown",
   "id": "e4bb6ae2",
   "metadata": {},
   "source": [
    "### Exercise 4\n",
    "Create another version of the model with fewer independent variables and see if the warning can be silenced. "
   ]
  },
  {
   "cell_type": "code",
   "execution_count": null,
   "id": "855c8fbc",
   "metadata": {},
   "outputs": [],
   "source": [
    "# dropped population density, land_degradation, carbon sequestration\n",
    "independent_cols_reduced = ['forest_coverage',  'protected_areas',\n",
    "       'deforestation_rate', 'soil_erosion',\n",
    "        'rural_population']\n",
    "\n",
    "dependent_var = 'biodiversity_index'"
   ]
  },
  {
   "cell_type": "code",
   "execution_count": null,
   "id": "90b62622",
   "metadata": {},
   "outputs": [],
   "source": [
    "# Generating the regression string\n",
    "formula_str = dependent_var+ ' ~ ' + ' + '.join(independent_cols_reduced)\n",
    "formula_str\n",
    "# Construct and fit the model\n",
    "model = smf.ols(formula=formula_str, data=environmental_indicators)\n",
    "fitted = model.fit()\n",
    "\n",
    "# Print the summary of the fitted model\n",
    "print(fitted.summary())"
   ]
  },
  {
   "cell_type": "markdown",
   "id": "2f2d4fae",
   "metadata": {},
   "source": [
    "This time, we can see that the warning about multicollinearity has disappeared, which is good news. The real test of our model will however be in its predictive accuracy. "
   ]
  },
  {
   "cell_type": "markdown",
   "id": "9080c93c",
   "metadata": {},
   "source": [
    "### Exercise 5\n",
    "\n",
    "Evaluate the accuracy and reliability of the multiple linear regression model by conducting various diagnostic tests.\n",
    "\n",
    "Check for linearity by visually inspecting scatter plots between each independent variable and the biodiversity index. This will help in understanding whether the relationship between the independent variables and the biodiversity index is linear.\n",
    "\n",
    "What can you see from the charts? Are there any linear relationships visible? "
   ]
  },
  {
   "cell_type": "code",
   "execution_count": null,
   "id": "93e5c679",
   "metadata": {},
   "outputs": [],
   "source": [
    "# Determine the number of rows and columns for subplots\n",
    "num_cols = 2\n",
    "num_rows = (len(independent_cols_reduced) + num_cols - 1) // num_cols\n",
    "\n",
    "# Create subplots\n",
    "fig, axs = plt.subplots(num_rows, num_cols, figsize=(12, 8))\n",
    "fig.subplots_adjust(hspace=0.5, wspace=0.3)\n",
    "axs = axs.ravel()\n",
    "\n",
    "# Iterate over each independent variable and create scatter plot against biodiversity index\n",
    "for index, column in enumerate(independent_cols_reduced):\n",
    "    axs[index].scatter(x=environmental_indicators[column], y=environmental_indicators['biodiversity_index'], color='blue', edgecolor='k')\n",
    "    axs[index].set_title(\"{} vs. Biodiversity_index\".format(column), fontsize=12)\n",
    "    axs[index].set_xlabel(column, fontsize=10)\n",
    "    axs[index].set_ylabel(\"Biodiversity_index\", fontsize=10)\n",
    "\n",
    "\n",
    "plt.tight_layout()\n",
    "plt.show()"
   ]
  },
  {
   "cell_type": "markdown",
   "id": "e8647390",
   "metadata": {},
   "source": [
    "The only variable that shows a relatively linear relationship with `biodiversity_index` is `deforestation_rate`. "
   ]
  },
  {
   "cell_type": "markdown",
   "id": "4d3508ef",
   "metadata": {},
   "source": [
    "### Exercise 6\n",
    "Visualise the relationship between predictor variables and model residuals to assess the independence of residuals using scatter plots. Do we see any obvious dependence of residuals? How would we know?"
   ]
  },
  {
   "cell_type": "code",
   "execution_count": null,
   "id": "c1369d6a",
   "metadata": {},
   "outputs": [],
   "source": [
    "reduced_matrix = environmental_indicators[independent_cols_reduced]"
   ]
  },
  {
   "cell_type": "code",
   "execution_count": null,
   "id": "008382f7",
   "metadata": {},
   "outputs": [],
   "source": [
    "# Plotting predictor variables vs. model residuals\n",
    "fig, axs = plt.subplots(2, 2, figsize=(14, 6), sharey=True)  # Adjusted to 2 rows and 4 columns\n",
    "fig.subplots_adjust(hspace=0.5, wspace=0.2)\n",
    "fig.suptitle('Predictor variables vs. model residuals', fontsize=16)\n",
    "axs = axs.ravel()\n",
    "\n",
    "for index, column in enumerate(reduced_matrix):\n",
    "    if index < len(axs):  # Ensure we don't exceed the number of subplots\n",
    "        axs[index].set_title(\"{}\".format(column), fontsize=12)\n",
    "        axs[index].scatter(x=environmental_indicators[column], y=fitted.resid, color='blue', edgecolor='k')\n",
    "        axs[index].grid(True)\n",
    "        xmin = min(environmental_indicators[column])\n",
    "        xmax = max(environmental_indicators[column])\n",
    "        axs[index].hlines(y=0, xmin=xmin*0.9, xmax=xmax*1.1, color='red', linestyle='--', lw=3)\n",
    "        if index == 0 or index == 4:\n",
    "            axs[index].set_ylabel('Residuals')"
   ]
  },
  {
   "cell_type": "markdown",
   "id": "11e62681",
   "metadata": {},
   "source": [
    "In the charts above, it is clear that there are residuals present, but we cannot actually see any specific groupings or patterns emerging, which would suggest that the errors are independent. The loose distribution of errors around zero is a clear indication that external influences on the residuals are unlikely. "
   ]
  },
  {
   "cell_type": "markdown",
   "id": "975ebaf3",
   "metadata": {},
   "source": [
    "### Exercise 7\n",
    "\n",
    "Check for homoscedasticity by conducting a `Breusch-Pagan` test on our model. Interpret the results to determine whether homoscedasticity could possibly be satisfied for our regression model."
   ]
  },
  {
   "cell_type": "code",
   "execution_count": null,
   "id": "2d73d971",
   "metadata": {},
   "outputs": [],
   "source": [
    "# 1. Calculate residuals\n",
    "residuals = fitted.resid\n",
    "\n",
    "# 2. Perform Breusch-Pagan Test\n",
    "bp_test_result = sms.het_breuschpagan(residuals, fitted.model.exog)\n",
    "print(\"Breusch-Pagan Test Results:\")\n",
    "print(\"LM Statistic:\", bp_test_result[0])\n",
    "print(\"LM-Test p-value:\", bp_test_result[1])\n",
    "print(\"F-Statistic:\", bp_test_result[2])\n",
    "print(\"F-Test p-value:\", bp_test_result[3])"
   ]
  },
  {
   "cell_type": "markdown",
   "id": "f82c275d",
   "metadata": {},
   "source": [
    "The p-values of both the LM test and the F-test are **larger than the typical significance level of 0.05**. This indicates that there isn't enough evidence to reject null hypothesis of homoscedasticity. This is good news for our model! \n",
    "\n",
    "In simpler terms, the variance of the residuals is constant across all values of the predictor variables, which means the model should be relatively reliable in predictions."
   ]
  },
  {
   "cell_type": "markdown",
   "id": "9b54a669",
   "metadata": {},
   "source": [
    "### Exercise 8\n",
    "Check for the normality of residuals by creating a Q-Q plot of the normalised residuals to visually assess their normality."
   ]
  },
  {
   "cell_type": "code",
   "execution_count": null,
   "id": "bd19232d",
   "metadata": {},
   "outputs": [],
   "source": [
    "# Q-Q plot of normalised residuals\n",
    "plt.figure(figsize=(8, 5))\n",
    "fig = qqplot(fitted.resid_pearson, line='45', fit=True)\n",
    "plt.xticks(fontsize=13)\n",
    "plt.yticks(fontsize=13)\n",
    "plt.xlabel(\"Theoretical quantiles\", fontsize=15)\n",
    "plt.ylabel(\"Sample quantiles\", fontsize=15)\n",
    "plt.title(\"Q-Q plot of normalised residuals\", fontsize=18)\n",
    "plt.grid(True)\n",
    "plt.show()"
   ]
  },
  {
   "cell_type": "markdown",
   "id": "2012af25",
   "metadata": {},
   "source": [
    "For the most part, our points lie close to the one-to-one line, which indicates that the residuals are normally distributed. There is however one rogue point on the plot that may warrant further investigation. "
   ]
  },
  {
   "cell_type": "markdown",
   "id": "e3760aa4",
   "metadata": {},
   "source": [
    "### Question 9\n",
    "\n",
    "To ensure the accuracy of our regression model, it's crucial to check for outliers that might significantly affect the model's coefficients and predictions. Use Cook's distance to visually inspect a plot of residuals vs. fitted values by identifying potential outliers. \n",
    "\n",
    "Interpret the results."
   ]
  },
  {
   "cell_type": "code",
   "execution_count": null,
   "id": "23159c00",
   "metadata": {},
   "outputs": [],
   "source": [
    "# Calculate Cook's distance\n",
    "influence = OLSInfluence(fitted)\n",
    "(c, p) = influence.cooks_distance\n",
    "\n",
    "# Plot Cook's distance\n",
    "plt.figure(figsize=(8, 5))\n",
    "plt.title(\"Cook's distance plot for the residuals\", fontsize=16)\n",
    "plt.plot(np.arange(len(c)), c, marker='o', linestyle='-')\n",
    "plt.xlabel('Observation index')\n",
    "plt.ylabel(\"Cook's Distance\")\n",
    "plt.grid(True)\n",
    "plt.show()"
   ]
  },
  {
   "cell_type": "code",
   "execution_count": null,
   "id": "58039a0c",
   "metadata": {},
   "outputs": [],
   "source": [
    "c"
   ]
  },
  {
   "attachments": {},
   "cell_type": "markdown",
   "id": "32ffe005",
   "metadata": {},
   "source": [
    "A rule of thumb for determining whether a Cook's distance is too large is whether it exceeds 1, or is greater than or equal to the value of 4 divided by the number of observations in the dataset. \n",
    "\n",
    "In our scenario, none of the distances exceed 1, and when we calculate 4 divided by the number of observations (32), we get **0.125**. \n",
    "\n",
    "There are three points that may demand more examination and influence our model. The values 0.23, 0.14, and 0.14 are all larger than the rule of thumb that can be used to spot outliers.\n",
    "\n",
    "Ideally, we should train the model again without those observations to observe how they influence it. "
   ]
  },
  {
   "cell_type": "markdown",
   "id": "26fd094b-0fee-46f1-a4b8-73766813c42b",
   "metadata": {
    "tags": []
   },
   "source": [
    "#  \n",
    "\n",
    "<div align=\"center\" style=\" font-size: 80%; text-align: center; margin: 0 auto\">\n",
    "<img src=\"https://raw.githubusercontent.com/Explore-AI/Pictures/master/ExploreAI_logos/EAI_Blue_Dark.png\"  style=\"width:200px\";/>\n",
    "</div>"
   ]
  }
 ],
 "metadata": {
  "kernelspec": {
   "display_name": "Python 3",
   "language": "python",
   "name": "python3"
  },
  "language_info": {
   "codemirror_mode": {
    "name": "ipython",
    "version": 3
   },
   "file_extension": ".py",
   "mimetype": "text/x-python",
   "name": "python",
   "nbconvert_exporter": "python",
   "pygments_lexer": "ipython3",
   "version": "3.13.0"
  }
 },
 "nbformat": 4,
 "nbformat_minor": 5
}
