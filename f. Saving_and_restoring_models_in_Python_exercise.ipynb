{
 "cells": [
  {
   "cell_type": "markdown",
   "metadata": {
    "id": "Ee-v8I_P8rfp"
   },
   "source": [
    "<div align=\"center\" style=\" font-size: 80%; text-align: center; margin: 0 auto\">\n",
    "<img src=\"https://raw.githubusercontent.com/Explore-AI/Pictures/master/Python-Notebook-Banners/Exercise.png\"  style=\"display: block; margin-left: auto; margin-right: auto;\";/>\n",
    "</div>\n",
    "\n",
    "# Exercise: Saving and restoring models in Python\n",
    "© ExploreAI Academy\n",
    "\n",
    "In this exercise, we save a trained model and restore it to make additional predictions on new inputs."
   ]
  },
  {
   "cell_type": "markdown",
   "metadata": {
    "id": "ITqrvAqq8xSC"
   },
   "source": [
    "## Learning objectives\n",
    "\n",
    "By the end of this train, you should be able to:\n",
    "\n",
    "* Use pickling to save and reuse previously trained models."
   ]
  },
  {
   "cell_type": "markdown",
   "metadata": {},
   "source": [
    "## Exercises\n",
    "\n",
    "We are provided with the `Crop_yield` dataset that contains various factors that could influence the yield of a particular crop across different regions.\n",
    "\n",
    "We are interested in how some features, namely `Temperature`, `Rainfall`, `Fertilizer_Usage`, and `Pesticide_Usage`, influence the yield of the crop."
   ]
  },
  {
   "cell_type": "markdown",
   "metadata": {},
   "source": [
    "### Import libraries and dataset"
   ]
  },
  {
   "cell_type": "code",
   "execution_count": 1,
   "metadata": {},
   "outputs": [],
   "source": [
    "import numpy as np\n",
    "import pandas as pd\n",
    "from sklearn.model_selection import train_test_split\n",
    "from sklearn.linear_model import LinearRegression\n",
    "from sklearn.metrics import mean_squared_error, r2_score\n",
    "import pickle"
   ]
  },
  {
   "cell_type": "code",
   "execution_count": 2,
   "metadata": {},
   "outputs": [
    {
     "data": {
      "application/vnd.microsoft.datawrangler.viewer.v0+json": {
       "columns": [
        {
         "name": "index",
         "rawType": "int64",
         "type": "integer"
        },
        {
         "name": "Region",
         "rawType": "object",
         "type": "string"
        },
        {
         "name": "Temperature",
         "rawType": "float64",
         "type": "float"
        },
        {
         "name": "Rainfall",
         "rawType": "float64",
         "type": "float"
        },
        {
         "name": "Soil_Type",
         "rawType": "object",
         "type": "string"
        },
        {
         "name": "Fertilizer_Usage",
         "rawType": "float64",
         "type": "float"
        },
        {
         "name": "Pesticide_Usage",
         "rawType": "float64",
         "type": "float"
        },
        {
         "name": "Irrigation",
         "rawType": "int64",
         "type": "integer"
        },
        {
         "name": "Crop_Variety",
         "rawType": "object",
         "type": "string"
        },
        {
         "name": "Yield",
         "rawType": "float64",
         "type": "float"
        }
       ],
       "ref": "fa2d030d-8497-4440-9b02-2a76e332ef5b",
       "rows": [
        [
         "0",
         "East",
         "23.152155735731096",
         "803.3625734259747",
         "Clayey",
         "204.7920110607646",
         "20.76758957893221",
         "1",
         "Variety B",
         "40.31631777820608"
        ],
        [
         "1",
         "West",
         "19.38241897544585",
         "571.5676697342047",
         "Sandy",
         "256.2017369949576",
         "49.2902424374646",
         "0",
         "Variety A",
         "26.846639296498925"
        ],
        [
         "2",
         "North",
         "27.89589009645857",
         "-8.699636591094702",
         "Loamy",
         "222.2026258974968",
         "25.316120561489832",
         "0",
         "Variety C",
         "-0.3235576280959916"
        ],
        [
         "3",
         "East",
         "26.741361132013623",
         "897.426194134021",
         "Loamy",
         "187.98409026511663",
         "17.115362349379986",
         "0",
         "Variety C",
         "45.440871287808704"
        ],
        [
         "4",
         "East",
         "19.090285745362397",
         "649.3846938142119",
         "Loamy",
         "110.45954885383829",
         "24.06880445382609",
         "1",
         "Variety B",
         "35.47811829725485"
        ]
       ],
       "shape": {
        "columns": 9,
        "rows": 5
       }
      },
      "text/html": [
       "<div>\n",
       "<style scoped>\n",
       "    .dataframe tbody tr th:only-of-type {\n",
       "        vertical-align: middle;\n",
       "    }\n",
       "\n",
       "    .dataframe tbody tr th {\n",
       "        vertical-align: top;\n",
       "    }\n",
       "\n",
       "    .dataframe thead th {\n",
       "        text-align: right;\n",
       "    }\n",
       "</style>\n",
       "<table border=\"1\" class=\"dataframe\">\n",
       "  <thead>\n",
       "    <tr style=\"text-align: right;\">\n",
       "      <th></th>\n",
       "      <th>Region</th>\n",
       "      <th>Temperature</th>\n",
       "      <th>Rainfall</th>\n",
       "      <th>Soil_Type</th>\n",
       "      <th>Fertilizer_Usage</th>\n",
       "      <th>Pesticide_Usage</th>\n",
       "      <th>Irrigation</th>\n",
       "      <th>Crop_Variety</th>\n",
       "      <th>Yield</th>\n",
       "    </tr>\n",
       "  </thead>\n",
       "  <tbody>\n",
       "    <tr>\n",
       "      <th>0</th>\n",
       "      <td>East</td>\n",
       "      <td>23.152156</td>\n",
       "      <td>803.362573</td>\n",
       "      <td>Clayey</td>\n",
       "      <td>204.792011</td>\n",
       "      <td>20.767590</td>\n",
       "      <td>1</td>\n",
       "      <td>Variety B</td>\n",
       "      <td>40.316318</td>\n",
       "    </tr>\n",
       "    <tr>\n",
       "      <th>1</th>\n",
       "      <td>West</td>\n",
       "      <td>19.382419</td>\n",
       "      <td>571.567670</td>\n",
       "      <td>Sandy</td>\n",
       "      <td>256.201737</td>\n",
       "      <td>49.290242</td>\n",
       "      <td>0</td>\n",
       "      <td>Variety A</td>\n",
       "      <td>26.846639</td>\n",
       "    </tr>\n",
       "    <tr>\n",
       "      <th>2</th>\n",
       "      <td>North</td>\n",
       "      <td>27.895890</td>\n",
       "      <td>-8.699637</td>\n",
       "      <td>Loamy</td>\n",
       "      <td>222.202626</td>\n",
       "      <td>25.316121</td>\n",
       "      <td>0</td>\n",
       "      <td>Variety C</td>\n",
       "      <td>-0.323558</td>\n",
       "    </tr>\n",
       "    <tr>\n",
       "      <th>3</th>\n",
       "      <td>East</td>\n",
       "      <td>26.741361</td>\n",
       "      <td>897.426194</td>\n",
       "      <td>Loamy</td>\n",
       "      <td>187.984090</td>\n",
       "      <td>17.115362</td>\n",
       "      <td>0</td>\n",
       "      <td>Variety C</td>\n",
       "      <td>45.440871</td>\n",
       "    </tr>\n",
       "    <tr>\n",
       "      <th>4</th>\n",
       "      <td>East</td>\n",
       "      <td>19.090286</td>\n",
       "      <td>649.384694</td>\n",
       "      <td>Loamy</td>\n",
       "      <td>110.459549</td>\n",
       "      <td>24.068804</td>\n",
       "      <td>1</td>\n",
       "      <td>Variety B</td>\n",
       "      <td>35.478118</td>\n",
       "    </tr>\n",
       "  </tbody>\n",
       "</table>\n",
       "</div>"
      ],
      "text/plain": [
       "  Region  Temperature    Rainfall Soil_Type  Fertilizer_Usage  \\\n",
       "0   East    23.152156  803.362573    Clayey        204.792011   \n",
       "1   West    19.382419  571.567670     Sandy        256.201737   \n",
       "2  North    27.895890   -8.699637     Loamy        222.202626   \n",
       "3   East    26.741361  897.426194     Loamy        187.984090   \n",
       "4   East    19.090286  649.384694     Loamy        110.459549   \n",
       "\n",
       "   Pesticide_Usage  Irrigation Crop_Variety      Yield  \n",
       "0        20.767590           1    Variety B  40.316318  \n",
       "1        49.290242           0    Variety A  26.846639  \n",
       "2        25.316121           0    Variety C  -0.323558  \n",
       "3        17.115362           0    Variety C  45.440871  \n",
       "4        24.068804           1    Variety B  35.478118  "
      ]
     },
     "execution_count": 2,
     "metadata": {},
     "output_type": "execute_result"
    }
   ],
   "source": [
    "# Load dataset\n",
    "df= pd.read_csv(\"https://raw.githubusercontent.com/Explore-AI/Public-Data/master/Data/Python/Crop_yield.csv\")\n",
    "df.head(5)"
   ]
  },
  {
   "cell_type": "code",
   "execution_count": 4,
   "metadata": {},
   "outputs": [
    {
     "data": {
      "text/plain": [
       "(1000, 9)"
      ]
     },
     "execution_count": 4,
     "metadata": {},
     "output_type": "execute_result"
    }
   ],
   "source": [
    "df.shape"
   ]
  },
  {
   "cell_type": "markdown",
   "metadata": {},
   "source": [
    "### Exercise 1\n",
    "\n",
    "We begin by training and evaluating a multiple linear regression model to map the relationship between the features: `Temperature`, `Rainfall`, `Fertilizer_Usage`, and `Pesticide_Usage` and the response variable, `Yield`. This model will enable us to predict crop yields based on the given factors."
   ]
  },
  {
   "cell_type": "code",
   "execution_count": 34,
   "metadata": {},
   "outputs": [
    {
     "data": {
      "text/plain": [
       "Index(['Region', 'Temperature', 'Rainfall', 'Soil_Type', 'Fertilizer_Usage',\n",
       "       'Pesticide_Usage', 'Irrigation', 'Crop_Variety', 'Yield'],\n",
       "      dtype='object')"
      ]
     },
     "execution_count": 34,
     "metadata": {},
     "output_type": "execute_result"
    }
   ],
   "source": [
    "df.columns"
   ]
  },
  {
   "cell_type": "code",
   "execution_count": 51,
   "metadata": {},
   "outputs": [
    {
     "name": "stdout",
     "output_type": "stream",
     "text": [
      "mse: 0.3346060708725869\n",
      "r_squared: 0.9963855840959401\n"
     ]
    }
   ],
   "source": [
    "X = pd.DataFrame(df.drop(['Region','Soil_Type','Irrigation', 'Crop_Variety', 'Yield'], axis=1 )) \n",
    "y = df['Yield']\n",
    "\n",
    "# split data\n",
    "from sklearn.model_selection import train_test_split\n",
    "X_train, X_test, y_train, y_test = train_test_split(X, y, test_size=0.2, random_state=42)\n",
    "\n",
    "# train model\n",
    "model = LinearRegression()\n",
    "model.fit(X_train, y_train)\n",
    "y_predict = model.predict(X_test)\n",
    "\n",
    "# check perfomance of the model\n",
    "from sklearn.metrics import mean_squared_error, r2_score\n",
    "print('mse:', mean_squared_error(y_predict, y_test))\n",
    "print('r_squared:', r2_score(y_predict, y_test))"
   ]
  },
  {
   "cell_type": "markdown",
   "metadata": {},
   "source": [
    "### Exercise 2\n",
    "\n",
    "We want to be able to conveniently retrieve and use the model for predictions in future. We therefore need to persist the trained model by saving it to a file. \n",
    "\n",
    "Use the `pickle` library to serialise the model and store it in a file named `crop_yield_model.pkl`."
   ]
  },
  {
   "cell_type": "code",
   "execution_count": 54,
   "metadata": {},
   "outputs": [],
   "source": [
    "file_path = 'linear_reg.pkl'\n",
    "\n",
    "with open(file_path, 'wb')as file:\n",
    "    pickle.dump(model, file)"
   ]
  },
  {
   "cell_type": "markdown",
   "metadata": {},
   "source": [
    "### Exercise 3\n",
    "\n",
    "We have received a new set of conditions for which we need to predict the crop yield. To accomplish this, we'll utilise the model we previously trained and saved.\n",
    "\n",
    "New conditions:\n",
    "- Temperature – `25` \n",
    "- Rainfall – `150` \n",
    "- Fertilizer usage – `200`  \n",
    "- Pesticide usage – `30`\n",
    "\n",
    "Prepare the new data, load the saved model, and use it to make predictions on the given feature values. "
   ]
  },
  {
   "cell_type": "code",
   "execution_count": 55,
   "metadata": {},
   "outputs": [],
   "source": [
    "file_path = 'linear_reg.pkl'\n",
    "with open(file_path, 'rb')as file:\n",
    "    loaded_model = pickle.load(file)"
   ]
  },
  {
   "cell_type": "code",
   "execution_count": 69,
   "metadata": {},
   "outputs": [
    {
     "data": {
      "text/plain": [
       "array([8.17286033])"
      ]
     },
     "execution_count": 69,
     "metadata": {},
     "output_type": "execute_result"
    }
   ],
   "source": [
    "# use loaded model to make predictions\n",
    "preds = {\n",
    "    'Temperature': [25], \n",
    "    'Rainfall': [150], \n",
    "    'Fertilizer_Usage': [200],  \n",
    "    'Pesticide_Usage': [30]  \n",
    "}\n",
    "\n",
    "preds = pd.DataFrame(preds)\n",
    "results = loaded_model.predict(preds)\n",
    "results"
   ]
  },
  {
   "cell_type": "markdown",
   "metadata": {},
   "source": [
    "## Test model loading using joblib"
   ]
  },
  {
   "cell_type": "code",
   "execution_count": 64,
   "metadata": {},
   "outputs": [
    {
     "data": {
      "text/plain": [
       "['linear_reg.joblib']"
      ]
     },
     "execution_count": 64,
     "metadata": {},
     "output_type": "execute_result"
    }
   ],
   "source": [
    "import joblib\n",
    "file_path = 'linear_reg.joblib'\n",
    "joblib.dump(model, file_path)"
   ]
  },
  {
   "cell_type": "code",
   "execution_count": 68,
   "metadata": {},
   "outputs": [
    {
     "ename": "AttributeError",
     "evalue": "'list' object has no attribute 'predict'",
     "output_type": "error",
     "traceback": [
      "\u001b[31m---------------------------------------------------------------------------\u001b[39m",
      "\u001b[31mAttributeError\u001b[39m                            Traceback (most recent call last)",
      "\u001b[36mCell\u001b[39m\u001b[36m \u001b[39m\u001b[32mIn[68]\u001b[39m\u001b[32m, line 4\u001b[39m\n\u001b[32m      1\u001b[39m file_name = \u001b[33m'\u001b[39m\u001b[33mlinear_reg.joblib\u001b[39m\u001b[33m'\u001b[39m\n\u001b[32m      3\u001b[39m model = joblib.load(file_name)\n\u001b[32m----> \u001b[39m\u001b[32m4\u001b[39m \u001b[43mmodel\u001b[49m\u001b[43m.\u001b[49m\u001b[43mpredict\u001b[49m(preds)\n",
      "\u001b[31mAttributeError\u001b[39m: 'list' object has no attribute 'predict'"
     ]
    }
   ],
   "source": [
    "file_name = 'linear_reg.joblib'\n",
    "\n",
    "model = joblib.load(file_name)\n",
    "model.predict(preds)\n"
   ]
  },
  {
   "cell_type": "markdown",
   "metadata": {},
   "source": [
    "## Solutions"
   ]
  },
  {
   "cell_type": "markdown",
   "metadata": {},
   "source": [
    "### Exercise 1"
   ]
  },
  {
   "cell_type": "code",
   "execution_count": 21,
   "metadata": {},
   "outputs": [
    {
     "name": "stdout",
     "output_type": "stream",
     "text": [
      "Test MSE: 0.3346060708725869\n",
      "Test R-squared: 0.9963871774411283\n"
     ]
    }
   ],
   "source": [
    "# Define predictors and target variable\n",
    "X = df[['Temperature', 'Rainfall', 'Fertilizer_Usage', 'Pesticide_Usage']]\n",
    "y = df['Yield']\n",
    "\n",
    "# Split the dataset into training and testing sets\n",
    "X_train, X_test, y_train, y_test = train_test_split(X, y, test_size=0.2, random_state=42)\n",
    "\n",
    "# Train a multiple linear regression model\n",
    "model = LinearRegression()\n",
    "model.fit(X_train, y_train)\n",
    "\n",
    "# Evaluate the model's performance on the test set\n",
    "y_pred = model.predict(X_test)\n",
    "mse = mean_squared_error(y_test, y_pred)\n",
    "r2 = r2_score(y_test, y_pred)\n",
    "\n",
    "print(f\"Test MSE: {mse}\")\n",
    "print(f\"Test R-squared: {r2}\")"
   ]
  },
  {
   "cell_type": "markdown",
   "metadata": {},
   "source": [
    "We train a model using a subset of the features from the `Crop_yield` dataset."
   ]
  },
  {
   "cell_type": "markdown",
   "metadata": {},
   "source": [
    "### Exercise 2"
   ]
  },
  {
   "cell_type": "code",
   "execution_count": null,
   "metadata": {},
   "outputs": [],
   "source": [
    "# Define the path where the model will be saved.\n",
    "model_save_path = 'crop_yield_model.pkl'\n",
    "\n",
    "# Save the trained model to a file\n",
    "with open(model_save_path, 'wb') as file:\n",
    "    pickle.dump(model, file)\n",
    "\n",
    "print(f\"Model saved to {model_save_path}\")"
   ]
  },
  {
   "cell_type": "markdown",
   "metadata": {},
   "source": [
    "We specify that we want to save our model in a pickle file, indicated by the `.pkl` extension.\n",
    "\n",
    "We open the file in **write-binary (`wb`)** mode – if the file doesn't exist, it will be created. Otherwise, its contents will be overwritten.\n",
    "\n",
    "We then use the `pickle.dump()` method to serialise the model object and save it into the file."
   ]
  },
  {
   "cell_type": "markdown",
   "metadata": {},
   "source": [
    "### Exercise 3"
   ]
  },
  {
   "cell_type": "code",
   "execution_count": null,
   "metadata": {},
   "outputs": [],
   "source": [
    "# A dictionary to store the new set of conditions\n",
    "new_conditions = {\n",
    "    'Temperature': [25],  # average temperature in °C\n",
    "    'Rainfall': [150],  # total rainfall in mm\n",
    "    'Fertilizer_Usage': [200],  # fertilizer used in kg per hectare\n",
    "    'Pesticide_Usage': [30]  # pesticide used in litres per hectare\n",
    "}\n",
    "\n",
    "# Convert to DataFrame\n",
    "new_conditions_df = pd.DataFrame(new_conditions)\n",
    "\n",
    "# This is where the model is saved\n",
    "model_load_path = 'crop_yield_model.pkl'\n",
    "\n",
    "# Load the updated model\n",
    "with open(model_load_path, 'rb') as file:\n",
    "    loaded_model = pickle.load(file)\n",
    "\n",
    "# Use the model to predict the yield for the new conditions\n",
    "predicted_yield = loaded_model.predict(new_conditions_df)\n",
    "\n",
    "print(f\"Predicted Yield for the new conditions: {predicted_yield[0]} tonnes per hectare\")"
   ]
  },
  {
   "cell_type": "markdown",
   "metadata": {},
   "source": [
    "We start by preparing the new data for compatibility with the model's **expected input format**, that is, a tabular format.\n",
    "\n",
    "We then open the file where we saved the model in **binary read (`rb`)** mode which is required for reading pickle files.\n",
    "\n",
    "The `pickle.load()` method deserialises the model from the file back into a Python object.\n",
    "\n",
    "We are then able to use the loaded model to predict the yield based on the new conditions provided."
   ]
  },
  {
   "cell_type": "markdown",
   "metadata": {},
   "source": [
    "<div align=\"center\" style=\" font-size: 80%; text-align: center; margin: 0 auto\">\n",
    "<img src=\"https://raw.githubusercontent.com/Explore-AI/Pictures/master/ExploreAI_logos/EAI_Blue_Dark.png\"  style=\"width:200px\";/>\n",
    "</div>"
   ]
  }
 ],
 "metadata": {
  "colab": {
   "authorship_tag": "ABX9TyPZFCZhaikX+N2/Bg7W6SY+",
   "collapsed_sections": [],
   "name": "Search_algorithms.ipynb",
   "provenance": [],
   "toc_visible": true
  },
  "kernelspec": {
   "display_name": "Python 3",
   "language": "python",
   "name": "python3"
  },
  "language_info": {
   "codemirror_mode": {
    "name": "ipython",
    "version": 3
   },
   "file_extension": ".py",
   "mimetype": "text/x-python",
   "name": "python",
   "nbconvert_exporter": "python",
   "pygments_lexer": "ipython3",
   "version": "3.13.0"
  }
 },
 "nbformat": 4,
 "nbformat_minor": 2
}
